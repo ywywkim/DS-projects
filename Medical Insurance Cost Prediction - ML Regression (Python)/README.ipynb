{
 "cells": [
  {
   "cell_type": "markdown",
   "id": "5eea6531-eea6-4170-bb1a-79daf37726a5",
   "metadata": {},
   "source": [
    "## Medical Insurance Cost Prediction using ML regression model\n",
    "- Build a machine learning model using traditional machine learning regression methods such as random forest and Gradient Boosting to accurately predict the medical insurance cost.\n",
    "- Then, build an interactive web-based dashboard using Streamlit to be able to utilize the model by inserting custom user input."
   ]
  },
  {
   "cell_type": "markdown",
   "id": "1189599e-abb0-414a-b2ce-52549f58d9f0",
   "metadata": {},
   "source": [
    "### Dataset\n",
    "- age\n",
    "- sex: male or female\n",
    "- bmi: Body Mass Index (BMI) is an objective measure of body weight relative to height, calculated as weight in kilograms divided by height in meters squared (kg/m²). A healthy BMI range is typically between 18.5 and 24.9, indicating a balanced weight for height.\n",
    "- children: Number of children/dependents\n",
    "- smoker: smoking / non-smoking\n",
    "- region: the beneficiary's residential area in the US- northeast, southeast, southwest, northwest.\n",
    "- charges: Individual medical costs billed by health insurance"
   ]
  },
  {
   "cell_type": "code",
   "execution_count": null,
   "id": "be4571ab-87d6-477c-8217-bf7e1977812d",
   "metadata": {},
   "outputs": [],
   "source": []
  }
 ],
 "metadata": {
  "kernelspec": {
   "display_name": "myenv",
   "language": "python",
   "name": "myenv"
  },
  "language_info": {
   "codemirror_mode": {
    "name": "ipython",
    "version": 3
   },
   "file_extension": ".py",
   "mimetype": "text/x-python",
   "name": "python",
   "nbconvert_exporter": "python",
   "pygments_lexer": "ipython3",
   "version": "3.12.8"
  }
 },
 "nbformat": 4,
 "nbformat_minor": 5
}
