{
 "cells": [
  {
   "cell_type": "code",
   "execution_count": 2,
   "id": "exceptional-conditioning",
   "metadata": {},
   "outputs": [
    {
     "name": "stderr",
     "output_type": "stream",
     "text": [
      "c:\\python39\\lib\\site-packages\\numpy\\_distributor_init.py:30: UserWarning: loaded more than 1 DLL from .libs:\n",
      "c:\\python39\\lib\\site-packages\\numpy\\.libs\\libopenblas.NOIJJG62EMASZI6NYURL6JBKM4EVBGM7.gfortran-win_amd64.dll\n",
      "c:\\python39\\lib\\site-packages\\numpy\\.libs\\libopenblas.WCDJNK7YVMPZQ2ME2ZZHJJRJ3JIKNDB7.gfortran-win_amd64.dll\n",
      "  warnings.warn(\"loaded more than 1 DLL from .libs:\"\n"
     ]
    }
   ],
   "source": [
    "import tensorflow\n",
    "from tensorflow.keras.models import Sequential\n",
    "from tensorflow.keras.layers import Conv2D\n",
    "from tensorflow.keras.layers import MaxPooling2D\n",
    "from tensorflow.keras.layers import Flatten\n",
    "from tensorflow.keras.layers import Dense\n",
    "from tensorflow.keras.preprocessing.image import ImageDataGenerator\n",
    "import numpy as np\n",
    "from tensorflow.keras.preprocessing import image\n",
    "import os\n",
    "import matplotlib.pyplot as plt\n",
    "import cv2"
   ]
  },
  {
   "cell_type": "code",
   "execution_count": 3,
   "id": "daily-livestock",
   "metadata": {},
   "outputs": [],
   "source": [
    "image_dims = 128\n",
    "batch_size = 64"
   ]
  },
  {
   "cell_type": "code",
   "execution_count": 4,
   "id": "blank-suggestion",
   "metadata": {},
   "outputs": [],
   "source": [
    "model = Sequential()\n",
    "\n",
    "model.add(Conv2D(64 , (3,3) , activation = 'relu' , input_shape= (image_dims, image_dims, 3)))\n",
    "model.add(MaxPooling2D((2,2)))\n",
    "\n",
    "model.add(Conv2D(64 , (3,3) , activation = 'relu'))\n",
    "model.add(MaxPooling2D((2,2)))\n",
    "\n",
    "model.add(Conv2D(64 , (3,3) , activation = 'relu'))\n",
    "model.add(MaxPooling2D((2,2)))\n",
    "\n",
    "model.add(Flatten())\n",
    "\n",
    "model.add(Dense(128, activation = 'relu'))\n",
    "\n",
    "model.add(Dense(1, activation = 'sigmoid'))\n"
   ]
  },
  {
   "cell_type": "code",
   "execution_count": 5,
   "id": "secure-mississippi",
   "metadata": {},
   "outputs": [
    {
     "name": "stdout",
     "output_type": "stream",
     "text": [
      "Model: \"sequential\"\n",
      "_________________________________________________________________\n",
      "Layer (type)                 Output Shape              Param #   \n",
      "=================================================================\n",
      "conv2d (Conv2D)              (None, 126, 126, 64)      1792      \n",
      "_________________________________________________________________\n",
      "max_pooling2d (MaxPooling2D) (None, 63, 63, 64)        0         \n",
      "_________________________________________________________________\n",
      "conv2d_1 (Conv2D)            (None, 61, 61, 64)        36928     \n",
      "_________________________________________________________________\n",
      "max_pooling2d_1 (MaxPooling2 (None, 30, 30, 64)        0         \n",
      "_________________________________________________________________\n",
      "conv2d_2 (Conv2D)            (None, 28, 28, 64)        36928     \n",
      "_________________________________________________________________\n",
      "max_pooling2d_2 (MaxPooling2 (None, 14, 14, 64)        0         \n",
      "_________________________________________________________________\n",
      "flatten (Flatten)            (None, 12544)             0         \n",
      "_________________________________________________________________\n",
      "dense (Dense)                (None, 128)               1605760   \n",
      "_________________________________________________________________\n",
      "dense_1 (Dense)              (None, 1)                 129       \n",
      "=================================================================\n",
      "Total params: 1,681,537\n",
      "Trainable params: 1,681,537\n",
      "Non-trainable params: 0\n",
      "_________________________________________________________________\n"
     ]
    }
   ],
   "source": [
    "model.summary()"
   ]
  },
  {
   "cell_type": "code",
   "execution_count": 6,
   "id": "direct-titanium",
   "metadata": {},
   "outputs": [],
   "source": [
    "model.compile(optimizer = 'adam', loss = 'binary_crossentropy', metrics = ['accuracy'])"
   ]
  },
  {
   "cell_type": "code",
   "execution_count": 7,
   "id": "surface-parallel",
   "metadata": {},
   "outputs": [
    {
     "name": "stdout",
     "output_type": "stream",
     "text": [
      "Found 5216 images belonging to 2 classes.\n"
     ]
    }
   ],
   "source": [
    "input_path = './chest_xray/'\n",
    "\n",
    "# Generate Training data:\n",
    "training_data_generator =  ImageDataGenerator(rescale = 1./255,\n",
    "                                             shear_range = 0.2,\n",
    "                                             zoom_range = 0.2,\n",
    "                                             horizontal_flip= True)\n",
    "\n",
    "training_gen = training_data_generator.flow_from_directory(directory=input_path+'train',\n",
    "                                                          target_size=(image_dims,image_dims),\n",
    "                                                          batch_size=batch_size,\n",
    "                                                          class_mode='binary')"
   ]
  },
  {
   "cell_type": "code",
   "execution_count": 8,
   "id": "piano-trading",
   "metadata": {},
   "outputs": [
    {
     "name": "stdout",
     "output_type": "stream",
     "text": [
      "Found 16 images belonging to 2 classes.\n"
     ]
    }
   ],
   "source": [
    "# Generate test data:\n",
    "\n",
    "validation_data_generator = ImageDataGenerator(rescale= 1./255)\n",
    "\n",
    "validation_gen = validation_data_generator.flow_from_directory(directory= input_path+ 'val',\n",
    "                                                     target_size=(image_dims,image_dims),\n",
    "                                                     batch_size= batch_size,\n",
    "                                                     class_mode= 'binary')"
   ]
  },
  {
   "cell_type": "code",
   "execution_count": 9,
   "id": "polar-gasoline",
   "metadata": {},
   "outputs": [
    {
     "name": "stderr",
     "output_type": "stream",
     "text": [
      "c:\\python39\\lib\\site-packages\\tensorflow\\python\\keras\\engine\\training.py:1940: UserWarning: `Model.fit_generator` is deprecated and will be removed in a future version. Please use `Model.fit`, which supports generators.\n",
      "  warnings.warn('`Model.fit_generator` is deprecated and '\n"
     ]
    },
    {
     "name": "stdout",
     "output_type": "stream",
     "text": [
      "Epoch 1/5\n",
      "10/10 [==============================] - ETA: 0s - loss: 0.6291 - accuracy: 0.6812 - ETA: 57s - loss: 0.6551 - accuracy: 0.WARNING:tensorflow:Your input ran out of data; interrupting training. Make sure that your dataset or generator can generate at least `steps_per_epoch * epochs` batches (in this case, 16 batches). You may need to use the repeat() function when building your dataset.\n",
      "10/10 [==============================] - 271s 24s/step - loss: 0.6291 - accuracy: 0.6812 - val_loss: 0.7859 - val_accuracy: 0.5000\n",
      "Epoch 2/5\n",
      "10/10 [==============================] - 118s 11s/step - loss: 0.5721 - accuracy: 0.7359\n",
      "Epoch 3/5\n",
      "10/10 [==============================] - 59s 6s/step - loss: 0.5114 - accuracy: 0.7578\n",
      "Epoch 4/5\n",
      "10/10 [==============================] - 63s 6s/step - loss: 0.4127 - accuracy: 0.8203\n",
      "Epoch 5/5\n",
      "10/10 [==============================] - 165s 17s/step - loss: 0.3914 - accuracy: 0.8313\n"
     ]
    }
   ],
   "source": [
    "# find the model accuracy:\n",
    "epochs = 5\n",
    "history = model.fit_generator(training_gen,\n",
    "                             steps_per_epoch= 10,\n",
    "                             epochs = epochs,\n",
    "                             validation_data=validation_gen,\n",
    "                             validation_steps= validation_gen.samples)"
   ]
  },
  {
   "cell_type": "code",
   "execution_count": 10,
   "id": "functional-hearing",
   "metadata": {},
   "outputs": [
    {
     "name": "stdout",
     "output_type": "stream",
     "text": [
      "Found 624 images belonging to 2 classes.\n"
     ]
    },
    {
     "name": "stderr",
     "output_type": "stream",
     "text": [
      "c:\\python39\\lib\\site-packages\\tensorflow\\python\\keras\\engine\\training.py:1973: UserWarning: `Model.evaluate_generator` is deprecated and will be removed in a future version. Please use `Model.evaluate`, which supports generators.\n",
      "  warnings.warn('`Model.evaluate_generator` is deprecated and '\n"
     ]
    },
    {
     "name": "stdout",
     "output_type": "stream",
     "text": [
      "WARNING:tensorflow:Your input ran out of data; interrupting training. Make sure that your dataset or generator can generate at least `steps_per_epoch * epochs` batches (in this case, 624 batches). You may need to use the repeat() function when building your dataset.\n",
      "loss rate at evaluation data : 0.47004416584968567\n",
      "accuracy rate at evaluation data : 0.7820512652397156\n"
     ]
    }
   ],
   "source": [
    "test_data_generator = ImageDataGenerator(rescale = 1/255)\n",
    "\n",
    "test_gen = test_data_generator.flow_from_directory(directory = input_path + 'test',\n",
    "    target_size = (image_dims, image_dims),\n",
    "    batch_size = 128, \n",
    "    class_mode = 'binary'\n",
    ")\n",
    "\n",
    "eval_result = model.evaluate_generator(test_gen, 624)\n",
    "print('loss rate at evaluation data :', eval_result[0])\n",
    "print('accuracy rate at evaluation data :', eval_result[1])"
   ]
  },
  {
   "cell_type": "code",
   "execution_count": 11,
   "id": "proprietary-weekly",
   "metadata": {},
   "outputs": [],
   "source": [
    "model.save('Pneumonia_Detection_model.h5' , history)"
   ]
  },
  {
   "cell_type": "code",
   "execution_count": null,
   "id": "dental-correction",
   "metadata": {},
   "outputs": [],
   "source": []
  }
 ],
 "metadata": {
  "kernelspec": {
   "display_name": "Python 3",
   "language": "python",
   "name": "python3"
  },
  "language_info": {
   "codemirror_mode": {
    "name": "ipython",
    "version": 3
   },
   "file_extension": ".py",
   "mimetype": "text/x-python",
   "name": "python",
   "nbconvert_exporter": "python",
   "pygments_lexer": "ipython3",
   "version": "3.9.1"
  }
 },
 "nbformat": 4,
 "nbformat_minor": 5
}
