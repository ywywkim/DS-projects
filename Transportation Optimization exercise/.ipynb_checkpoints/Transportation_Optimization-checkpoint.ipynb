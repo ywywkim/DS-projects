{
 "cells": [
  {
   "cell_type": "markdown",
   "metadata": {
    "id": "7aCMzxSKBeTf"
   },
   "source": [
    "## Problem Formulation"
   ]
  },
  {
   "cell_type": "markdown",
   "metadata": {
    "id": "hB21oaE6BeTi"
   },
   "source": [
    "The linear programming problem formulation is summarized as below:"
   ]
  },
  {
   "cell_type": "markdown",
   "metadata": {
    "id": "Y-tHB6YuC22I"
   },
   "source": [
    "\n",
    "![Alt text](problem_formulation.png)\n"
   ]
  },
  {
   "cell_type": "markdown",
   "metadata": {
    "id": "p1U58YAgBeTj"
   },
   "source": [
    "## Setup Environment"
   ]
  },
  {
   "cell_type": "code",
   "execution_count": 27,
   "metadata": {
    "colab": {
     "base_uri": "https://localhost:8080/"
    },
    "id": "cVcS3DQxBeTj",
    "outputId": "66ed349a-f092-40b8-da23-14acab1b3103",
    "scrolled": true
   },
   "outputs": [],
   "source": [
    "#Install requisite packages\n",
    "#!pip install gurobipy\n",
    "#!pip install cplex\n",
    "#!pip install docplex\n",
    "#!pip install PuLP\n",
    "#!pip install ortools"
   ]
  },
  {
   "cell_type": "code",
   "execution_count": 28,
   "metadata": {
    "id": "i4ojFGFmBeTm"
   },
   "outputs": [],
   "source": [
    "#Importing Libraries\n",
    "import numpy as np\n",
    "import gurobipy as grb\n",
    "import docplex.mp.model as cpx"
   ]
  },
  {
   "cell_type": "code",
   "execution_count": 9,
   "metadata": {
    "id": "JxI26j3YBeTm"
   },
   "outputs": [],
   "source": [
    "#Data\n",
    "supply = {'A':70,'B':50,'C':30}\n",
    "demand = {'D':30,'E':24,'F':12,'G':42,'H':6}\n",
    "# 5x3 array for shipping costs\n",
    "cost_arr = np.array([[16,7,17,14,19],\n",
    "                    [9,11,16,10,5],\n",
    "                    [10,18,6,13,8]])"
   ]
  },
  {
   "cell_type": "code",
   "execution_count": 10,
   "metadata": {
    "colab": {
     "base_uri": "https://localhost:8080/"
    },
    "id": "lSHg88OnBeTn",
    "outputId": "c3b4ea3a-7bb2-485f-c933-bde7240d45ee"
   },
   "outputs": [
    {
     "data": {
      "text/plain": [
       "True"
      ]
     },
     "execution_count": 10,
     "metadata": {},
     "output_type": "execute_result"
    }
   ],
   "source": [
    "#Check if cost array is of right shape\n",
    "cost_arr.shape == (len(supply), len(demand))"
   ]
  },
  {
   "cell_type": "markdown",
   "metadata": {
    "id": "QM5UbP1eBeTn"
   },
   "source": [
    "## Gurobi Implementation"
   ]
  },
  {
   "cell_type": "markdown",
   "metadata": {
    "id": "TyALI1vcBeTo"
   },
   "source": [
    "### Intialize model"
   ]
  },
  {
   "cell_type": "code",
   "execution_count": 11,
   "metadata": {
    "colab": {
     "base_uri": "https://localhost:8080/"
    },
    "id": "XnHIDdFwBeTo",
    "outputId": "5308c5ae-0a23-4b95-8d66-8beeea406243"
   },
   "outputs": [
    {
     "name": "stdout",
     "output_type": "stream",
     "text": [
      "Restricted license - for non-production use only - expires 2026-11-23\n"
     ]
    }
   ],
   "source": [
    "gurobi_lp_model = grb.Model()"
   ]
  },
  {
   "cell_type": "markdown",
   "metadata": {
    "id": "PcPWFSZVBeTp"
   },
   "source": [
    "### Define Decision Variables"
   ]
  },
  {
   "cell_type": "code",
   "execution_count": 12,
   "metadata": {
    "colab": {
     "base_uri": "https://localhost:8080/"
    },
    "id": "7UDiEcFQBeTp",
    "outputId": "22418773-d4c3-45a8-d3f0-09c77b23b8af"
   },
   "outputs": [
    {
     "data": {
      "text/plain": [
       "{(0, 0): <gurobi.Var *Awaiting Model Update*>,\n",
       " (0, 1): <gurobi.Var *Awaiting Model Update*>,\n",
       " (0, 2): <gurobi.Var *Awaiting Model Update*>,\n",
       " (0, 3): <gurobi.Var *Awaiting Model Update*>,\n",
       " (0, 4): <gurobi.Var *Awaiting Model Update*>,\n",
       " (1, 0): <gurobi.Var *Awaiting Model Update*>,\n",
       " (1, 1): <gurobi.Var *Awaiting Model Update*>,\n",
       " (1, 2): <gurobi.Var *Awaiting Model Update*>,\n",
       " (1, 3): <gurobi.Var *Awaiting Model Update*>,\n",
       " (1, 4): <gurobi.Var *Awaiting Model Update*>,\n",
       " (2, 0): <gurobi.Var *Awaiting Model Update*>,\n",
       " (2, 1): <gurobi.Var *Awaiting Model Update*>,\n",
       " (2, 2): <gurobi.Var *Awaiting Model Update*>,\n",
       " (2, 3): <gurobi.Var *Awaiting Model Update*>,\n",
       " (2, 4): <gurobi.Var *Awaiting Model Update*>}"
      ]
     },
     "execution_count": 12,
     "metadata": {},
     "output_type": "execute_result"
    }
   ],
   "source": [
    "quantity_arr  = {(i,j): gurobi_lp_model.addVar(vtype = grb.GRB.INTEGER, name=\"%s-%s\"%(list(supply.keys())[i],list(demand.keys())[j])) for i in range(len(supply)) for j in range(len(demand))}\n",
    "quantity_arr"
   ]
  },
  {
   "cell_type": "markdown",
   "metadata": {
    "id": "3Bzn3vA8BeTp"
   },
   "source": [
    "### Constraints"
   ]
  },
  {
   "cell_type": "markdown",
   "metadata": {
    "id": "NPlvuQRSBeTq"
   },
   "source": [
    "#### Supply Constraint"
   ]
  },
  {
   "cell_type": "code",
   "execution_count": 13,
   "metadata": {
    "id": "cHu8gjdRBeTq"
   },
   "outputs": [],
   "source": [
    "for i in range(len(supply)):\n",
    "    gurobi_lp_model.addConstr(sum(quantity_arr[(i,j)] for j in range(len(demand))) <= list(supply.values())[i])\n"
   ]
  },
  {
   "cell_type": "markdown",
   "metadata": {
    "id": "yuORXlZZBeTq"
   },
   "source": [
    "#### Demand Constraint"
   ]
  },
  {
   "cell_type": "code",
   "execution_count": 14,
   "metadata": {
    "id": "BMfR5oCsBeTr"
   },
   "outputs": [],
   "source": [
    "for j in range(len(demand)):\n",
    "    gurobi_lp_model.addConstr(sum(quantity_arr[(i,j)] for i in range(len(supply))) >= list(demand.values())[j])"
   ]
  },
  {
   "cell_type": "markdown",
   "metadata": {
    "id": "NCMZHch5BeTr"
   },
   "source": [
    "#### Non-Negativity Constraint"
   ]
  },
  {
   "cell_type": "code",
   "execution_count": 15,
   "metadata": {
    "id": "5LfQj345BeTr"
   },
   "outputs": [],
   "source": [
    "for i in range(len(supply)):\n",
    "    for j in range(len(demand)):\n",
    "        gurobi_lp_model.addConstr(quantity_arr[(i,j)] >= 0)"
   ]
  },
  {
   "cell_type": "markdown",
   "metadata": {
    "id": "chU56NenBeTr"
   },
   "source": [
    "### Objective Function"
   ]
  },
  {
   "cell_type": "code",
   "execution_count": 16,
   "metadata": {
    "id": "aDMrzGz7BeTs"
   },
   "outputs": [],
   "source": [
    "gurobi_lp_model.setObjective(sum(cost_arr[i][j]*quantity_arr[(i,j)] for i in range(len(supply)) for j in range(len(demand))), grb.GRB.MINIMIZE)"
   ]
  },
  {
   "cell_type": "markdown",
   "metadata": {
    "id": "6aKqhre_BeTs"
   },
   "source": [
    "### Optimize"
   ]
  },
  {
   "cell_type": "code",
   "execution_count": 17,
   "metadata": {
    "colab": {
     "base_uri": "https://localhost:8080/"
    },
    "id": "QzaOacpfBeTs",
    "outputId": "5023bb93-1b40-4582-f586-68b601e52762"
   },
   "outputs": [
    {
     "name": "stdout",
     "output_type": "stream",
     "text": [
      "Gurobi Optimizer version 12.0.1 build v12.0.1rc0 (win64 - Windows 10.0 (19045.2))\n",
      "\n",
      "CPU model: 12th Gen Intel(R) Core(TM) i7-1265U, instruction set [SSE2|AVX|AVX2]\n",
      "Thread count: 10 physical cores, 12 logical processors, using up to 12 threads\n",
      "\n",
      "Optimize a model with 23 rows, 15 columns and 45 nonzeros\n",
      "Model fingerprint: 0x4f2602a0\n",
      "Variable types: 0 continuous, 15 integer (0 binary)\n",
      "Coefficient statistics:\n",
      "  Matrix range     [1e+00, 1e+00]\n",
      "  Objective range  [5e+00, 2e+01]\n",
      "  Bounds range     [0e+00, 0e+00]\n",
      "  RHS range        [6e+00, 7e+01]\n",
      "Found heuristic solution: objective 1210.0000000\n",
      "Presolve removed 15 rows and 0 columns\n",
      "Presolve time: 0.01s\n",
      "Presolved: 8 rows, 15 columns, 30 nonzeros\n",
      "Variable types: 0 continuous, 15 integer (0 binary)\n",
      "\n",
      "Root relaxation: objective 1.018000e+03, 7 iterations, 0.01 seconds (0.00 work units)\n",
      "\n",
      "    Nodes    |    Current Node    |     Objective Bounds      |     Work\n",
      " Expl Unexpl |  Obj  Depth IntInf | Incumbent    BestBd   Gap | It/Node Time\n",
      "\n",
      "*    0     0               0    1018.0000000 1018.00000  0.00%     -    0s\n",
      "\n",
      "Explored 1 nodes (7 simplex iterations) in 0.09 seconds (0.00 work units)\n",
      "Thread count was 12 (of 12 available processors)\n",
      "\n",
      "Solution count 2: 1018 1210 \n",
      "\n",
      "Optimal solution found (tolerance 1.00e-04)\n",
      "Best objective 1.018000000000e+03, best bound 1.018000000000e+03, gap 0.0000%\n"
     ]
    }
   ],
   "source": [
    "gurobi_lp_model.optimize()"
   ]
  },
  {
   "cell_type": "code",
   "execution_count": 18,
   "metadata": {
    "colab": {
     "base_uri": "https://localhost:8080/"
    },
    "id": "i2ZbQl13BeTt",
    "outputId": "56a07ece-2338-4512-d8bd-37636547731c"
   },
   "outputs": [
    {
     "data": {
      "text/plain": [
       "{(0, 0): <gurobi.Var A-D (value -0.0)>,\n",
       " (0, 1): <gurobi.Var A-E (value 24.0)>,\n",
       " (0, 2): <gurobi.Var A-F (value -0.0)>,\n",
       " (0, 3): <gurobi.Var A-G (value 10.0)>,\n",
       " (0, 4): <gurobi.Var A-H (value -0.0)>,\n",
       " (1, 0): <gurobi.Var B-D (value 12.0)>,\n",
       " (1, 1): <gurobi.Var B-E (value -0.0)>,\n",
       " (1, 2): <gurobi.Var B-F (value -0.0)>,\n",
       " (1, 3): <gurobi.Var B-G (value 32.0)>,\n",
       " (1, 4): <gurobi.Var B-H (value 6.0)>,\n",
       " (2, 0): <gurobi.Var C-D (value 18.0)>,\n",
       " (2, 1): <gurobi.Var C-E (value -0.0)>,\n",
       " (2, 2): <gurobi.Var C-F (value 12.0)>,\n",
       " (2, 3): <gurobi.Var C-G (value -0.0)>,\n",
       " (2, 4): <gurobi.Var C-H (value -0.0)>}"
      ]
     },
     "execution_count": 18,
     "metadata": {},
     "output_type": "execute_result"
    }
   ],
   "source": [
    "quantity_arr"
   ]
  },
  {
   "cell_type": "code",
   "execution_count": null,
   "metadata": {
    "colab": {
     "base_uri": "https://localhost:8080/"
    },
    "id": "TArxucerBeTt",
    "outputId": "a7e4d35c-b6a3-4e50-a80b-009a6f4cc9e7"
   },
   "outputs": [
    {
     "name": "stdout",
     "output_type": "stream",
     "text": [
      "Optimal shipments from supply city A to demand city D is 0\n",
      "Optimal shipments from supply city A to demand city E is 24\n",
      "Optimal shipments from supply city A to demand city F is 0\n",
      "Optimal shipments from supply city A to demand city G is 10\n",
      "Optimal shipments from supply city A to demand city H is 0\n",
      "Optimal shipments from supply city B to demand city D is 12\n",
      "Optimal shipments from supply city B to demand city E is 0\n",
      "Optimal shipments from supply city B to demand city F is 0\n",
      "Optimal shipments from supply city B to demand city G is 32\n",
      "Optimal shipments from supply city B to demand city H is 6\n",
      "Optimal shipments from supply city C to demand city D is 18\n",
      "Optimal shipments from supply city C to demand city E is 0\n",
      "Optimal shipments from supply city C to demand city F is 12\n",
      "Optimal shipments from supply city C to demand city G is 0\n",
      "Optimal shipments from supply city C to demand city H is 0\n",
      "Total minimum shipping cost is 1018\n"
     ]
    }
   ],
   "source": [
    "# This prints out the optimal value for all the decision variables\n",
    "for i in range(len(supply)):\n",
    "    for j in range(len(demand)):\n",
    "        print(\"Optimal shipments from supply city %s to demand city %s is %d\"%(list(supply.keys())[i], list(demand.keys())[j], quantity_arr[(i,j)].x))\n",
    "# This gives the objective value that we were trying to maximize.\n",
    "print(\"Total minimum shipping cost is %d\"%gurobi_lp_model.objval)"
   ]
  },
  {
   "cell_type": "markdown",
   "metadata": {
    "id": "MXjRQEJMBeTt"
   },
   "source": [
    "## CPLEX Implementation"
   ]
  },
  {
   "cell_type": "markdown",
   "metadata": {
    "id": "hd_O0G6DBeTt"
   },
   "source": [
    "### Initializing Model"
   ]
  },
  {
   "cell_type": "code",
   "execution_count": 19,
   "metadata": {
    "id": "rdrFTUWuBeTt"
   },
   "outputs": [],
   "source": [
    "cplex_lp_model = cpx.Model()"
   ]
  },
  {
   "cell_type": "markdown",
   "metadata": {
    "id": "D9_n4eRpBeTu"
   },
   "source": [
    "### Define Decision Variables"
   ]
  },
  {
   "cell_type": "code",
   "execution_count": 20,
   "metadata": {
    "colab": {
     "base_uri": "https://localhost:8080/"
    },
    "id": "kjRGEA0MBeTu",
    "outputId": "08cf83d1-fd27-4180-cae9-e95652adcf94"
   },
   "outputs": [
    {
     "data": {
      "text/plain": [
       "{(0, 0): docplex.mp.Var(type=I,name='A-D'),\n",
       " (0, 1): docplex.mp.Var(type=I,name='A-E'),\n",
       " (0, 2): docplex.mp.Var(type=I,name='A-F'),\n",
       " (0, 3): docplex.mp.Var(type=I,name='A-G'),\n",
       " (0, 4): docplex.mp.Var(type=I,name='A-H'),\n",
       " (1, 0): docplex.mp.Var(type=I,name='B-D'),\n",
       " (1, 1): docplex.mp.Var(type=I,name='B-E'),\n",
       " (1, 2): docplex.mp.Var(type=I,name='B-F'),\n",
       " (1, 3): docplex.mp.Var(type=I,name='B-G'),\n",
       " (1, 4): docplex.mp.Var(type=I,name='B-H'),\n",
       " (2, 0): docplex.mp.Var(type=I,name='C-D'),\n",
       " (2, 1): docplex.mp.Var(type=I,name='C-E'),\n",
       " (2, 2): docplex.mp.Var(type=I,name='C-F'),\n",
       " (2, 3): docplex.mp.Var(type=I,name='C-G'),\n",
       " (2, 4): docplex.mp.Var(type=I,name='C-H')}"
      ]
     },
     "execution_count": 20,
     "metadata": {},
     "output_type": "execute_result"
    }
   ],
   "source": [
    "quantity_arr  = {(i,j): cplex_lp_model.integer_var(name=\"%s-%s\"%(list(supply.keys())[i],list(demand.keys())[j])) for i in range(len(supply)) for j in range(len(demand))}\n",
    "quantity_arr"
   ]
  },
  {
   "cell_type": "markdown",
   "metadata": {
    "id": "plKxxVpaBeTu"
   },
   "source": [
    "### Constraints"
   ]
  },
  {
   "cell_type": "markdown",
   "metadata": {
    "id": "vFGOZrrfBeTu"
   },
   "source": [
    "#### Supply Constraint"
   ]
  },
  {
   "cell_type": "code",
   "execution_count": 21,
   "metadata": {
    "id": "OM9nveqwBeTu"
   },
   "outputs": [],
   "source": [
    "supply_constraints = {i : cplex_lp_model.add_constraint(ct=cplex_lp_model.sum(quantity_arr[(i,j)] for j in range(len(demand))) <= list(supply.values())[i]) for i in range(len(supply))}"
   ]
  },
  {
   "cell_type": "markdown",
   "metadata": {
    "id": "JjdlyNoPBeTu"
   },
   "source": [
    "#### Demand Constraint"
   ]
  },
  {
   "cell_type": "code",
   "execution_count": 22,
   "metadata": {
    "id": "daC8RKtUBeTv"
   },
   "outputs": [],
   "source": [
    "demand_constraints = {i : cplex_lp_model.add_constraint(ct=cplex_lp_model.sum(quantity_arr[(i,j)] for i in range(len(supply))) >= list(demand.values())[j]) for j in range(len(demand))}"
   ]
  },
  {
   "cell_type": "markdown",
   "metadata": {
    "id": "w73z4k3eBeTw"
   },
   "source": [
    "#### Non-Negativity Constraint"
   ]
  },
  {
   "cell_type": "code",
   "execution_count": 23,
   "metadata": {
    "id": "mQ236j57BeTw"
   },
   "outputs": [],
   "source": [
    "non_neg_constraints = {(i,j): cplex_lp_model.add_constraint(ct=quantity_arr[(i,j)] >= 0) for i in range(len(supply)) for j in range(len(demand))}"
   ]
  },
  {
   "cell_type": "markdown",
   "metadata": {
    "id": "EURSzrXvBeTw"
   },
   "source": [
    "### Objective Function"
   ]
  },
  {
   "cell_type": "code",
   "execution_count": 24,
   "metadata": {
    "id": "shgY9LmaBeTw"
   },
   "outputs": [],
   "source": [
    "objective = cplex_lp_model.sum(cost_arr[i][j]*quantity_arr[(i,j)] for i in range(len(supply)) for j in range(len(demand)))\n",
    "cplex_lp_model.minimize(objective)"
   ]
  },
  {
   "cell_type": "markdown",
   "metadata": {
    "id": "sjg_UNhjBeTw"
   },
   "source": [
    "### Optimize"
   ]
  },
  {
   "cell_type": "code",
   "execution_count": 25,
   "metadata": {
    "colab": {
     "base_uri": "https://localhost:8080/"
    },
    "id": "cd0De72nBeTw",
    "outputId": "838abf0d-a9ab-4d60-dfb8-2d9c1f0b89c1"
   },
   "outputs": [
    {
     "data": {
      "text/plain": [
       "docplex.mp.solution.SolveSolution(obj=1018,values={A-E:24,A-G:10,B-D:12,.."
      ]
     },
     "execution_count": 25,
     "metadata": {},
     "output_type": "execute_result"
    }
   ],
   "source": [
    "cplex_lp_model.solve()"
   ]
  },
  {
   "cell_type": "markdown",
   "metadata": {
    "id": "BMQ5LynaBeTx"
   },
   "source": [
    "### Results"
   ]
  },
  {
   "cell_type": "code",
   "execution_count": 26,
   "metadata": {
    "colab": {
     "base_uri": "https://localhost:8080/"
    },
    "id": "-J0RaX5IBeTx",
    "outputId": "db4119e1-900d-417c-cfff-e6564afc2868"
   },
   "outputs": [
    {
     "name": "stdout",
     "output_type": "stream",
     "text": [
      "Optimal shipments from supply city A to demand city D is 0\n",
      "Optimal shipments from supply city A to demand city E is 24\n",
      "Optimal shipments from supply city A to demand city F is 0\n",
      "Optimal shipments from supply city A to demand city G is 10\n",
      "Optimal shipments from supply city A to demand city H is 0\n",
      "Optimal shipments from supply city B to demand city D is 12\n",
      "Optimal shipments from supply city B to demand city E is 0\n",
      "Optimal shipments from supply city B to demand city F is 0\n",
      "Optimal shipments from supply city B to demand city G is 32\n",
      "Optimal shipments from supply city B to demand city H is 6\n",
      "Optimal shipments from supply city C to demand city D is 18\n",
      "Optimal shipments from supply city C to demand city E is 0\n",
      "Optimal shipments from supply city C to demand city F is 12\n",
      "Optimal shipments from supply city C to demand city G is 0\n",
      "Optimal shipments from supply city C to demand city H is 0\n",
      "Total minimum shipping cost is 1018\n"
     ]
    }
   ],
   "source": [
    "# This prints out the optimal value for all the decision variables\n",
    "for i in range(len(supply)):\n",
    "    for j in range(len(demand)):\n",
    "        print(\"Optimal shipments from supply city %s to demand city %s is %d\"%(list(supply.keys())[i], list(demand.keys())[j], quantity_arr[(i,j)].solution_value))\n",
    "# This gives the objective value that we were trying to maximize.\n",
    "print(\"Total minimum shipping cost is %d\"%cplex_lp_model.objective_value)"
   ]
  }
 ],
 "metadata": {
  "colab": {
   "collapsed_sections": [
    "7aCMzxSKBeTf",
    "p1U58YAgBeTj",
    "QM5UbP1eBeTn",
    "MXjRQEJMBeTt",
    "hhhFkn6cBeTx",
    "PxKP5GXGBeT0",
    "yy9tWg7HBeT3"
   ],
   "provenance": []
  },
  "kernelspec": {
   "display_name": "Python 3 (ipykernel)",
   "language": "python",
   "name": "python3"
  },
  "language_info": {
   "codemirror_mode": {
    "name": "ipython",
    "version": 3
   },
   "file_extension": ".py",
   "mimetype": "text/x-python",
   "name": "python",
   "nbconvert_exporter": "python",
   "pygments_lexer": "ipython3",
   "version": "3.12.8"
  }
 },
 "nbformat": 4,
 "nbformat_minor": 4
}
