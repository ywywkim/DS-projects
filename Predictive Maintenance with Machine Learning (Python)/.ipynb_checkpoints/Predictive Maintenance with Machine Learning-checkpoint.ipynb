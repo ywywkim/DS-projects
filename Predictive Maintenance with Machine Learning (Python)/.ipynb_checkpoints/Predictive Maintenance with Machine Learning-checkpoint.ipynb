{
 "cells": [
  {
   "cell_type": "code",
   "execution_count": 2,
   "id": "f9054cd6-a5c3-40e5-89d9-34c304846746",
   "metadata": {},
   "outputs": [],
   "source": [
    "import numpy as np\n",
    "import pandas as pd\n",
    "import matplotlib.pyplot as plt\n",
    "import seaborn as sns\n",
    "\n",
    "import warnings\n",
    "warnings.filterwarnings(\"ignore\")"
   ]
  },
  {
   "cell_type": "code",
   "execution_count": 3,
   "id": "14095430-6b95-49f0-96b8-808348f27945",
   "metadata": {},
   "outputs": [],
   "source": [
    "# Import data\n",
    "df = pd.read_csv(\"predictive_maintenance.csv\")"
   ]
  },
  {
   "cell_type": "code",
   "execution_count": 4,
   "id": "6cec8efd-8f5b-46c1-8601-5601ae8b994e",
   "metadata": {},
   "outputs": [
    {
     "data": {
      "text/html": [
       "<div>\n",
       "<style scoped>\n",
       "    .dataframe tbody tr th:only-of-type {\n",
       "        vertical-align: middle;\n",
       "    }\n",
       "\n",
       "    .dataframe tbody tr th {\n",
       "        vertical-align: top;\n",
       "    }\n",
       "\n",
       "    .dataframe thead th {\n",
       "        text-align: right;\n",
       "    }\n",
       "</style>\n",
       "<table border=\"1\" class=\"dataframe\">\n",
       "  <thead>\n",
       "    <tr style=\"text-align: right;\">\n",
       "      <th></th>\n",
       "      <th>UDI</th>\n",
       "      <th>Product ID</th>\n",
       "      <th>Type</th>\n",
       "      <th>Air temperature [K]</th>\n",
       "      <th>Process temperature [K]</th>\n",
       "      <th>Rotational speed [rpm]</th>\n",
       "      <th>Torque [Nm]</th>\n",
       "      <th>Tool wear [min]</th>\n",
       "      <th>Target</th>\n",
       "      <th>Failure Type</th>\n",
       "    </tr>\n",
       "  </thead>\n",
       "  <tbody>\n",
       "    <tr>\n",
       "      <th>0</th>\n",
       "      <td>1</td>\n",
       "      <td>M14860</td>\n",
       "      <td>M</td>\n",
       "      <td>298.1</td>\n",
       "      <td>308.6</td>\n",
       "      <td>1551</td>\n",
       "      <td>42.8</td>\n",
       "      <td>0</td>\n",
       "      <td>0</td>\n",
       "      <td>No Failure</td>\n",
       "    </tr>\n",
       "    <tr>\n",
       "      <th>1</th>\n",
       "      <td>2</td>\n",
       "      <td>L47181</td>\n",
       "      <td>L</td>\n",
       "      <td>298.2</td>\n",
       "      <td>308.7</td>\n",
       "      <td>1408</td>\n",
       "      <td>46.3</td>\n",
       "      <td>3</td>\n",
       "      <td>0</td>\n",
       "      <td>No Failure</td>\n",
       "    </tr>\n",
       "    <tr>\n",
       "      <th>2</th>\n",
       "      <td>3</td>\n",
       "      <td>L47182</td>\n",
       "      <td>L</td>\n",
       "      <td>298.1</td>\n",
       "      <td>308.5</td>\n",
       "      <td>1498</td>\n",
       "      <td>49.4</td>\n",
       "      <td>5</td>\n",
       "      <td>0</td>\n",
       "      <td>No Failure</td>\n",
       "    </tr>\n",
       "    <tr>\n",
       "      <th>3</th>\n",
       "      <td>4</td>\n",
       "      <td>L47183</td>\n",
       "      <td>L</td>\n",
       "      <td>298.2</td>\n",
       "      <td>308.6</td>\n",
       "      <td>1433</td>\n",
       "      <td>39.5</td>\n",
       "      <td>7</td>\n",
       "      <td>0</td>\n",
       "      <td>No Failure</td>\n",
       "    </tr>\n",
       "    <tr>\n",
       "      <th>4</th>\n",
       "      <td>5</td>\n",
       "      <td>L47184</td>\n",
       "      <td>L</td>\n",
       "      <td>298.2</td>\n",
       "      <td>308.7</td>\n",
       "      <td>1408</td>\n",
       "      <td>40.0</td>\n",
       "      <td>9</td>\n",
       "      <td>0</td>\n",
       "      <td>No Failure</td>\n",
       "    </tr>\n",
       "    <tr>\n",
       "      <th>...</th>\n",
       "      <td>...</td>\n",
       "      <td>...</td>\n",
       "      <td>...</td>\n",
       "      <td>...</td>\n",
       "      <td>...</td>\n",
       "      <td>...</td>\n",
       "      <td>...</td>\n",
       "      <td>...</td>\n",
       "      <td>...</td>\n",
       "      <td>...</td>\n",
       "    </tr>\n",
       "    <tr>\n",
       "      <th>9995</th>\n",
       "      <td>9996</td>\n",
       "      <td>M24855</td>\n",
       "      <td>M</td>\n",
       "      <td>298.8</td>\n",
       "      <td>308.4</td>\n",
       "      <td>1604</td>\n",
       "      <td>29.5</td>\n",
       "      <td>14</td>\n",
       "      <td>0</td>\n",
       "      <td>No Failure</td>\n",
       "    </tr>\n",
       "    <tr>\n",
       "      <th>9996</th>\n",
       "      <td>9997</td>\n",
       "      <td>H39410</td>\n",
       "      <td>H</td>\n",
       "      <td>298.9</td>\n",
       "      <td>308.4</td>\n",
       "      <td>1632</td>\n",
       "      <td>31.8</td>\n",
       "      <td>17</td>\n",
       "      <td>0</td>\n",
       "      <td>No Failure</td>\n",
       "    </tr>\n",
       "    <tr>\n",
       "      <th>9997</th>\n",
       "      <td>9998</td>\n",
       "      <td>M24857</td>\n",
       "      <td>M</td>\n",
       "      <td>299.0</td>\n",
       "      <td>308.6</td>\n",
       "      <td>1645</td>\n",
       "      <td>33.4</td>\n",
       "      <td>22</td>\n",
       "      <td>0</td>\n",
       "      <td>No Failure</td>\n",
       "    </tr>\n",
       "    <tr>\n",
       "      <th>9998</th>\n",
       "      <td>9999</td>\n",
       "      <td>H39412</td>\n",
       "      <td>H</td>\n",
       "      <td>299.0</td>\n",
       "      <td>308.7</td>\n",
       "      <td>1408</td>\n",
       "      <td>48.5</td>\n",
       "      <td>25</td>\n",
       "      <td>0</td>\n",
       "      <td>No Failure</td>\n",
       "    </tr>\n",
       "    <tr>\n",
       "      <th>9999</th>\n",
       "      <td>10000</td>\n",
       "      <td>M24859</td>\n",
       "      <td>M</td>\n",
       "      <td>299.0</td>\n",
       "      <td>308.7</td>\n",
       "      <td>1500</td>\n",
       "      <td>40.2</td>\n",
       "      <td>30</td>\n",
       "      <td>0</td>\n",
       "      <td>No Failure</td>\n",
       "    </tr>\n",
       "  </tbody>\n",
       "</table>\n",
       "<p>10000 rows × 10 columns</p>\n",
       "</div>"
      ],
      "text/plain": [
       "        UDI Product ID Type  Air temperature [K]  Process temperature [K]  \\\n",
       "0         1     M14860    M                298.1                    308.6   \n",
       "1         2     L47181    L                298.2                    308.7   \n",
       "2         3     L47182    L                298.1                    308.5   \n",
       "3         4     L47183    L                298.2                    308.6   \n",
       "4         5     L47184    L                298.2                    308.7   \n",
       "...     ...        ...  ...                  ...                      ...   \n",
       "9995   9996     M24855    M                298.8                    308.4   \n",
       "9996   9997     H39410    H                298.9                    308.4   \n",
       "9997   9998     M24857    M                299.0                    308.6   \n",
       "9998   9999     H39412    H                299.0                    308.7   \n",
       "9999  10000     M24859    M                299.0                    308.7   \n",
       "\n",
       "      Rotational speed [rpm]  Torque [Nm]  Tool wear [min]  Target  \\\n",
       "0                       1551         42.8                0       0   \n",
       "1                       1408         46.3                3       0   \n",
       "2                       1498         49.4                5       0   \n",
       "3                       1433         39.5                7       0   \n",
       "4                       1408         40.0                9       0   \n",
       "...                      ...          ...              ...     ...   \n",
       "9995                    1604         29.5               14       0   \n",
       "9996                    1632         31.8               17       0   \n",
       "9997                    1645         33.4               22       0   \n",
       "9998                    1408         48.5               25       0   \n",
       "9999                    1500         40.2               30       0   \n",
       "\n",
       "     Failure Type  \n",
       "0      No Failure  \n",
       "1      No Failure  \n",
       "2      No Failure  \n",
       "3      No Failure  \n",
       "4      No Failure  \n",
       "...           ...  \n",
       "9995   No Failure  \n",
       "9996   No Failure  \n",
       "9997   No Failure  \n",
       "9998   No Failure  \n",
       "9999   No Failure  \n",
       "\n",
       "[10000 rows x 10 columns]"
      ]
     },
     "execution_count": 4,
     "metadata": {},
     "output_type": "execute_result"
    }
   ],
   "source": [
    "df"
   ]
  },
  {
   "cell_type": "markdown",
   "id": "1d810202-f7ad-421e-89f3-c6d5debba4e9",
   "metadata": {},
   "source": [
    "### EDA"
   ]
  },
  {
   "cell_type": "code",
   "execution_count": 5,
   "id": "9981dcb2-9bbe-40df-b45c-33c5c5b0d65a",
   "metadata": {},
   "outputs": [
    {
     "name": "stdout",
     "output_type": "stream",
     "text": [
      "<class 'pandas.core.frame.DataFrame'>\n",
      "RangeIndex: 10000 entries, 0 to 9999\n",
      "Data columns (total 10 columns):\n",
      " #   Column                   Non-Null Count  Dtype  \n",
      "---  ------                   --------------  -----  \n",
      " 0   UDI                      10000 non-null  int64  \n",
      " 1   Product ID               10000 non-null  object \n",
      " 2   Type                     10000 non-null  object \n",
      " 3   Air temperature [K]      10000 non-null  float64\n",
      " 4   Process temperature [K]  10000 non-null  float64\n",
      " 5   Rotational speed [rpm]   10000 non-null  int64  \n",
      " 6   Torque [Nm]              10000 non-null  float64\n",
      " 7   Tool wear [min]          10000 non-null  int64  \n",
      " 8   Target                   10000 non-null  int64  \n",
      " 9   Failure Type             10000 non-null  object \n",
      "dtypes: float64(3), int64(4), object(3)\n",
      "memory usage: 781.4+ KB\n"
     ]
    }
   ],
   "source": [
    "df.info()"
   ]
  },
  {
   "cell_type": "code",
   "execution_count": 6,
   "id": "6ae1429b-68f3-4632-93a6-e14ca82de552",
   "metadata": {},
   "outputs": [
    {
     "data": {
      "text/html": [
       "<div>\n",
       "<style scoped>\n",
       "    .dataframe tbody tr th:only-of-type {\n",
       "        vertical-align: middle;\n",
       "    }\n",
       "\n",
       "    .dataframe tbody tr th {\n",
       "        vertical-align: top;\n",
       "    }\n",
       "\n",
       "    .dataframe thead th {\n",
       "        text-align: right;\n",
       "    }\n",
       "</style>\n",
       "<table border=\"1\" class=\"dataframe\">\n",
       "  <thead>\n",
       "    <tr style=\"text-align: right;\">\n",
       "      <th></th>\n",
       "      <th>UDI</th>\n",
       "      <th>Air temperature [K]</th>\n",
       "      <th>Process temperature [K]</th>\n",
       "      <th>Rotational speed [rpm]</th>\n",
       "      <th>Torque [Nm]</th>\n",
       "      <th>Tool wear [min]</th>\n",
       "      <th>Target</th>\n",
       "    </tr>\n",
       "  </thead>\n",
       "  <tbody>\n",
       "    <tr>\n",
       "      <th>count</th>\n",
       "      <td>10000.00000</td>\n",
       "      <td>10000.000000</td>\n",
       "      <td>10000.000000</td>\n",
       "      <td>10000.000000</td>\n",
       "      <td>10000.000000</td>\n",
       "      <td>10000.000000</td>\n",
       "      <td>10000.000000</td>\n",
       "    </tr>\n",
       "    <tr>\n",
       "      <th>mean</th>\n",
       "      <td>5000.50000</td>\n",
       "      <td>300.004930</td>\n",
       "      <td>310.005560</td>\n",
       "      <td>1538.776100</td>\n",
       "      <td>39.986910</td>\n",
       "      <td>107.951000</td>\n",
       "      <td>0.033900</td>\n",
       "    </tr>\n",
       "    <tr>\n",
       "      <th>std</th>\n",
       "      <td>2886.89568</td>\n",
       "      <td>2.000259</td>\n",
       "      <td>1.483734</td>\n",
       "      <td>179.284096</td>\n",
       "      <td>9.968934</td>\n",
       "      <td>63.654147</td>\n",
       "      <td>0.180981</td>\n",
       "    </tr>\n",
       "    <tr>\n",
       "      <th>min</th>\n",
       "      <td>1.00000</td>\n",
       "      <td>295.300000</td>\n",
       "      <td>305.700000</td>\n",
       "      <td>1168.000000</td>\n",
       "      <td>3.800000</td>\n",
       "      <td>0.000000</td>\n",
       "      <td>0.000000</td>\n",
       "    </tr>\n",
       "    <tr>\n",
       "      <th>25%</th>\n",
       "      <td>2500.75000</td>\n",
       "      <td>298.300000</td>\n",
       "      <td>308.800000</td>\n",
       "      <td>1423.000000</td>\n",
       "      <td>33.200000</td>\n",
       "      <td>53.000000</td>\n",
       "      <td>0.000000</td>\n",
       "    </tr>\n",
       "    <tr>\n",
       "      <th>50%</th>\n",
       "      <td>5000.50000</td>\n",
       "      <td>300.100000</td>\n",
       "      <td>310.100000</td>\n",
       "      <td>1503.000000</td>\n",
       "      <td>40.100000</td>\n",
       "      <td>108.000000</td>\n",
       "      <td>0.000000</td>\n",
       "    </tr>\n",
       "    <tr>\n",
       "      <th>75%</th>\n",
       "      <td>7500.25000</td>\n",
       "      <td>301.500000</td>\n",
       "      <td>311.100000</td>\n",
       "      <td>1612.000000</td>\n",
       "      <td>46.800000</td>\n",
       "      <td>162.000000</td>\n",
       "      <td>0.000000</td>\n",
       "    </tr>\n",
       "    <tr>\n",
       "      <th>max</th>\n",
       "      <td>10000.00000</td>\n",
       "      <td>304.500000</td>\n",
       "      <td>313.800000</td>\n",
       "      <td>2886.000000</td>\n",
       "      <td>76.600000</td>\n",
       "      <td>253.000000</td>\n",
       "      <td>1.000000</td>\n",
       "    </tr>\n",
       "  </tbody>\n",
       "</table>\n",
       "</div>"
      ],
      "text/plain": [
       "               UDI  Air temperature [K]  Process temperature [K]  \\\n",
       "count  10000.00000         10000.000000             10000.000000   \n",
       "mean    5000.50000           300.004930               310.005560   \n",
       "std     2886.89568             2.000259                 1.483734   \n",
       "min        1.00000           295.300000               305.700000   \n",
       "25%     2500.75000           298.300000               308.800000   \n",
       "50%     5000.50000           300.100000               310.100000   \n",
       "75%     7500.25000           301.500000               311.100000   \n",
       "max    10000.00000           304.500000               313.800000   \n",
       "\n",
       "       Rotational speed [rpm]   Torque [Nm]  Tool wear [min]        Target  \n",
       "count            10000.000000  10000.000000     10000.000000  10000.000000  \n",
       "mean              1538.776100     39.986910       107.951000      0.033900  \n",
       "std                179.284096      9.968934        63.654147      0.180981  \n",
       "min               1168.000000      3.800000         0.000000      0.000000  \n",
       "25%               1423.000000     33.200000        53.000000      0.000000  \n",
       "50%               1503.000000     40.100000       108.000000      0.000000  \n",
       "75%               1612.000000     46.800000       162.000000      0.000000  \n",
       "max               2886.000000     76.600000       253.000000      1.000000  "
      ]
     },
     "execution_count": 6,
     "metadata": {},
     "output_type": "execute_result"
    }
   ],
   "source": [
    "df.describe()"
   ]
  },
  {
   "cell_type": "code",
   "execution_count": 7,
   "id": "311f8898-c97e-40e8-9ae6-448657759dd1",
   "metadata": {},
   "outputs": [
    {
     "data": {
      "text/plain": [
       "0"
      ]
     },
     "execution_count": 7,
     "metadata": {},
     "output_type": "execute_result"
    }
   ],
   "source": [
    "# missing values\n",
    "df.isna().any().sum()"
   ]
  },
  {
   "cell_type": "code",
   "execution_count": 8,
   "id": "dd59621f-ff80-419c-9c68-c8318a571f96",
   "metadata": {},
   "outputs": [
    {
     "data": {
      "text/html": [
       "<div>\n",
       "<style scoped>\n",
       "    .dataframe tbody tr th:only-of-type {\n",
       "        vertical-align: middle;\n",
       "    }\n",
       "\n",
       "    .dataframe tbody tr th {\n",
       "        vertical-align: top;\n",
       "    }\n",
       "\n",
       "    .dataframe thead th {\n",
       "        text-align: right;\n",
       "    }\n",
       "</style>\n",
       "<table border=\"1\" class=\"dataframe\">\n",
       "  <thead>\n",
       "    <tr style=\"text-align: right;\">\n",
       "      <th></th>\n",
       "      <th>UDI</th>\n",
       "      <th>Product ID</th>\n",
       "      <th>Type</th>\n",
       "      <th>Air temperature [K]</th>\n",
       "      <th>Process temperature [K]</th>\n",
       "      <th>Rotational speed [rpm]</th>\n",
       "      <th>Torque [Nm]</th>\n",
       "      <th>Tool wear [min]</th>\n",
       "      <th>Target</th>\n",
       "      <th>Failure Type</th>\n",
       "    </tr>\n",
       "  </thead>\n",
       "  <tbody>\n",
       "  </tbody>\n",
       "</table>\n",
       "</div>"
      ],
      "text/plain": [
       "Empty DataFrame\n",
       "Columns: [UDI, Product ID, Type, Air temperature [K], Process temperature [K], Rotational speed [rpm], Torque [Nm], Tool wear [min], Target, Failure Type]\n",
       "Index: []"
      ]
     },
     "execution_count": 8,
     "metadata": {},
     "output_type": "execute_result"
    }
   ],
   "source": [
    "# Check for duplicate rows\n",
    "df[df.duplicated()]"
   ]
  },
  {
   "cell_type": "code",
   "execution_count": 9,
   "id": "bc5f6b72-8d51-4169-9c70-9e8d7a1ef01e",
   "metadata": {},
   "outputs": [],
   "source": [
    "# Rename columns to be simpler\n",
    "df.rename(columns={\"Air temperature [K]\" : \"Air temp\",\n",
    "                   \"Process temperature [K]\" : \"Process temp\",\n",
    "                   \"Rotational speed [rpm]\" : \"Rotational speed\",\n",
    "                   \"Torque [Nm]\" : \"Torque\",\n",
    "                   \"Tool wear [min]\" : \"Tool wear\"}, inplace = True)"
   ]
  },
  {
   "cell_type": "code",
   "execution_count": 10,
   "id": "85891c12-0fd0-468f-9b0c-7f4c080d7118",
   "metadata": {},
   "outputs": [],
   "source": [
    "# Drop UDI column\n",
    "df.drop(\"UDI\", axis=1, inplace = True)"
   ]
  },
  {
   "cell_type": "code",
   "execution_count": 11,
   "id": "18fda9d4-1e29-4f1b-975f-3420f292ab11",
   "metadata": {},
   "outputs": [],
   "source": [
    "# Drop first character of the product id column as it is identical as the 'Type' column\n",
    "df['Product ID'] = df['Product ID'].str[1:]"
   ]
  },
  {
   "cell_type": "code",
   "execution_count": 12,
   "id": "6b162ec8-e4c7-4eb2-b577-faf3e66cf20e",
   "metadata": {},
   "outputs": [],
   "source": [
    "# Convert to numeric col type\n",
    "df['Product ID'] = pd.to_numeric(df['Product ID'])"
   ]
  },
  {
   "cell_type": "code",
   "execution_count": 13,
   "id": "1d1921d6-24a4-418c-9f7a-9397d92c972c",
   "metadata": {},
   "outputs": [
    {
     "data": {
      "image/png": "[encoded data removed]",
      "text/plain": [
       "<Figure size 500x300 with 1 Axes>"
      ]
     },
     "metadata": {},
     "output_type": "display_data"
    }
   ],
   "source": [
    "ax, fig = plt.subplots(figsize = (5,3))\n",
    "sns.histplot(data=df, x=\"Product ID\", hue = \"Type\")\n",
    "fig.set_title(\"Product ID Histogram by Type\")\n",
    "plt.show()"
   ]
  },
  {
   "cell_type": "markdown",
   "id": "85b72104-aad2-4b8d-8198-7fb7451fde6c",
   "metadata": {},
   "source": [
    "From this histogram, we can identify that product id column does not carry any significant information that might help uncover hidden patterns in machine failures; therefore, it is safe to remove the column."
   ]
  },
  {
   "cell_type": "code",
   "execution_count": 14,
   "id": "e6bedf06-5584-4fa4-ac45-e270b8efa648",
   "metadata": {},
   "outputs": [],
   "source": [
    "df.drop(\"Product ID\", axis =1, inplace=True)"
   ]
  },
  {
   "cell_type": "code",
   "execution_count": 15,
   "id": "58415a2f-c2b4-4ffa-bc7a-e134ac7f5c7b",
   "metadata": {},
   "outputs": [
    {
     "data": {
      "image/png": "[encoded data removed]",
      "text/plain": [
       "<Figure size 640x480 with 1 Axes>"
      ]
     },
     "metadata": {},
     "output_type": "display_data"
    }
   ],
   "source": [
    "type_temp = df.value_counts(\"Type\").reset_index(name='count')\n",
    "type_temp[\"perc\"] = type_temp[\"count\"] / sum(type_temp[\"count\"]) * 100\n",
    "plt.pie(type_temp[\"perc\"], autopct='%.0f%%')\n",
    "plt.title(\"Percentage by Machine Type\")\n",
    "plt.legend([\"L\", \"M\", \"H\"])\n",
    "plt.show()"
   ]
  },
  {
   "cell_type": "code",
   "execution_count": 16,
   "id": "e6e26b0d-fea5-4de1-9a4f-e34b12fc5b64",
   "metadata": {},
   "outputs": [
    {
     "data": {
      "image/png": "[encoded data removed]",
      "text/plain": [
       "<Figure size 640x480 with 1 Axes>"
      ]
     },
     "metadata": {},
     "output_type": "display_data"
    }
   ],
   "source": [
    "# Box plot of temperatures in Kelvin\n",
    "df.boxplot(column = [\"Air temp\", \"Process temp\"])\n",
    "plt.show()"
   ]
  },
  {
   "cell_type": "code",
   "execution_count": 17,
   "id": "025ad645-b277-460e-a841-ef6622eb08f9",
   "metadata": {},
   "outputs": [
    {
     "data": {
      "text/plain": [
       "Failure Type\n",
       "No Failure                  9652\n",
       "Heat Dissipation Failure     112\n",
       "Power Failure                 95\n",
       "Overstrain Failure            78\n",
       "Tool Wear Failure             45\n",
       "Random Failures               18\n",
       "Name: count, dtype: int64"
      ]
     },
     "execution_count": 17,
     "metadata": {},
     "output_type": "execute_result"
    }
   ],
   "source": [
    "# Data validation\n",
    "df['Failure Type'].value_counts()"
   ]
  },
  {
   "cell_type": "code",
   "execution_count": 18,
   "id": "3ac123f9-12b0-4790-8245-4f7c2ecb84e1",
   "metadata": {},
   "outputs": [
    {
     "data": {
      "text/plain": [
       "Failure Type\n",
       "Heat Dissipation Failure    112\n",
       "No Failure                    9\n",
       "Overstrain Failure           78\n",
       "Power Failure                95\n",
       "Random Failures               0\n",
       "Tool Wear Failure            45\n",
       "Name: Target, dtype: int64"
      ]
     },
     "execution_count": 18,
     "metadata": {},
     "output_type": "execute_result"
    }
   ],
   "source": [
    "# Data validation\n",
    "df.groupby([\"Failure Type\"]).sum()[\"Target\"]"
   ]
  },
  {
   "cell_type": "markdown",
   "id": "c06e8537-3481-4858-8b76-291e3635c385",
   "metadata": {},
   "source": [
    "We notice that there are some errors in the data. We have 9 rows where it is categorized as \"No Failure\" but is not marked as 0 in the Target column. Plus, we have 18 \"Random Failures\" rows where it is marked as \"0\" in the Target column."
   ]
  },
  {
   "cell_type": "code",
   "execution_count": 19,
   "id": "ac640384-f6b0-4b95-9be5-b98b8e959126",
   "metadata": {},
   "outputs": [
    {
     "data": {
      "text/html": [
       "<div>\n",
       "<style scoped>\n",
       "    .dataframe tbody tr th:only-of-type {\n",
       "        vertical-align: middle;\n",
       "    }\n",
       "\n",
       "    .dataframe tbody tr th {\n",
       "        vertical-align: top;\n",
       "    }\n",
       "\n",
       "    .dataframe thead th {\n",
       "        text-align: right;\n",
       "    }\n",
       "</style>\n",
       "<table border=\"1\" class=\"dataframe\">\n",
       "  <thead>\n",
       "    <tr style=\"text-align: right;\">\n",
       "      <th></th>\n",
       "      <th>Target</th>\n",
       "      <th>Failure Type</th>\n",
       "    </tr>\n",
       "  </thead>\n",
       "  <tbody>\n",
       "    <tr>\n",
       "      <th>1221</th>\n",
       "      <td>0</td>\n",
       "      <td>Random Failures</td>\n",
       "    </tr>\n",
       "    <tr>\n",
       "      <th>1302</th>\n",
       "      <td>0</td>\n",
       "      <td>Random Failures</td>\n",
       "    </tr>\n",
       "    <tr>\n",
       "      <th>1748</th>\n",
       "      <td>0</td>\n",
       "      <td>Random Failures</td>\n",
       "    </tr>\n",
       "    <tr>\n",
       "      <th>2072</th>\n",
       "      <td>0</td>\n",
       "      <td>Random Failures</td>\n",
       "    </tr>\n",
       "    <tr>\n",
       "      <th>2559</th>\n",
       "      <td>0</td>\n",
       "      <td>Random Failures</td>\n",
       "    </tr>\n",
       "    <tr>\n",
       "      <th>3065</th>\n",
       "      <td>0</td>\n",
       "      <td>Random Failures</td>\n",
       "    </tr>\n",
       "    <tr>\n",
       "      <th>3452</th>\n",
       "      <td>0</td>\n",
       "      <td>Random Failures</td>\n",
       "    </tr>\n",
       "    <tr>\n",
       "      <th>5471</th>\n",
       "      <td>0</td>\n",
       "      <td>Random Failures</td>\n",
       "    </tr>\n",
       "    <tr>\n",
       "      <th>5489</th>\n",
       "      <td>0</td>\n",
       "      <td>Random Failures</td>\n",
       "    </tr>\n",
       "    <tr>\n",
       "      <th>5495</th>\n",
       "      <td>0</td>\n",
       "      <td>Random Failures</td>\n",
       "    </tr>\n",
       "    <tr>\n",
       "      <th>5509</th>\n",
       "      <td>0</td>\n",
       "      <td>Random Failures</td>\n",
       "    </tr>\n",
       "    <tr>\n",
       "      <th>5553</th>\n",
       "      <td>0</td>\n",
       "      <td>Random Failures</td>\n",
       "    </tr>\n",
       "    <tr>\n",
       "      <th>5639</th>\n",
       "      <td>0</td>\n",
       "      <td>Random Failures</td>\n",
       "    </tr>\n",
       "    <tr>\n",
       "      <th>6091</th>\n",
       "      <td>0</td>\n",
       "      <td>Random Failures</td>\n",
       "    </tr>\n",
       "    <tr>\n",
       "      <th>6913</th>\n",
       "      <td>0</td>\n",
       "      <td>Random Failures</td>\n",
       "    </tr>\n",
       "    <tr>\n",
       "      <th>6960</th>\n",
       "      <td>0</td>\n",
       "      <td>Random Failures</td>\n",
       "    </tr>\n",
       "    <tr>\n",
       "      <th>7488</th>\n",
       "      <td>0</td>\n",
       "      <td>Random Failures</td>\n",
       "    </tr>\n",
       "    <tr>\n",
       "      <th>7868</th>\n",
       "      <td>0</td>\n",
       "      <td>Random Failures</td>\n",
       "    </tr>\n",
       "  </tbody>\n",
       "</table>\n",
       "</div>"
      ],
      "text/plain": [
       "      Target     Failure Type\n",
       "1221       0  Random Failures\n",
       "1302       0  Random Failures\n",
       "1748       0  Random Failures\n",
       "2072       0  Random Failures\n",
       "2559       0  Random Failures\n",
       "3065       0  Random Failures\n",
       "3452       0  Random Failures\n",
       "5471       0  Random Failures\n",
       "5489       0  Random Failures\n",
       "5495       0  Random Failures\n",
       "5509       0  Random Failures\n",
       "5553       0  Random Failures\n",
       "5639       0  Random Failures\n",
       "6091       0  Random Failures\n",
       "6913       0  Random Failures\n",
       "6960       0  Random Failures\n",
       "7488       0  Random Failures\n",
       "7868       0  Random Failures"
      ]
     },
     "execution_count": 19,
     "metadata": {},
     "output_type": "execute_result"
    }
   ],
   "source": [
    "# Verify errors\n",
    "df[['Target', 'Failure Type']][df['Failure Type'] == 'Random Failures']"
   ]
  },
  {
   "cell_type": "code",
   "execution_count": 20,
   "id": "569b8662-5f3e-4b46-8f16-628e82947ad8",
   "metadata": {},
   "outputs": [
    {
     "data": {
      "text/html": [
       "<div>\n",
       "<style scoped>\n",
       "    .dataframe tbody tr th:only-of-type {\n",
       "        vertical-align: middle;\n",
       "    }\n",
       "\n",
       "    .dataframe tbody tr th {\n",
       "        vertical-align: top;\n",
       "    }\n",
       "\n",
       "    .dataframe thead th {\n",
       "        text-align: right;\n",
       "    }\n",
       "</style>\n",
       "<table border=\"1\" class=\"dataframe\">\n",
       "  <thead>\n",
       "    <tr style=\"text-align: right;\">\n",
       "      <th></th>\n",
       "      <th>Target</th>\n",
       "      <th>Failure Type</th>\n",
       "    </tr>\n",
       "  </thead>\n",
       "  <tbody>\n",
       "    <tr>\n",
       "      <th>1437</th>\n",
       "      <td>1</td>\n",
       "      <td>No Failure</td>\n",
       "    </tr>\n",
       "    <tr>\n",
       "      <th>2749</th>\n",
       "      <td>1</td>\n",
       "      <td>No Failure</td>\n",
       "    </tr>\n",
       "    <tr>\n",
       "      <th>4044</th>\n",
       "      <td>1</td>\n",
       "      <td>No Failure</td>\n",
       "    </tr>\n",
       "    <tr>\n",
       "      <th>4684</th>\n",
       "      <td>1</td>\n",
       "      <td>No Failure</td>\n",
       "    </tr>\n",
       "    <tr>\n",
       "      <th>5536</th>\n",
       "      <td>1</td>\n",
       "      <td>No Failure</td>\n",
       "    </tr>\n",
       "    <tr>\n",
       "      <th>5941</th>\n",
       "      <td>1</td>\n",
       "      <td>No Failure</td>\n",
       "    </tr>\n",
       "    <tr>\n",
       "      <th>6478</th>\n",
       "      <td>1</td>\n",
       "      <td>No Failure</td>\n",
       "    </tr>\n",
       "    <tr>\n",
       "      <th>8506</th>\n",
       "      <td>1</td>\n",
       "      <td>No Failure</td>\n",
       "    </tr>\n",
       "    <tr>\n",
       "      <th>9015</th>\n",
       "      <td>1</td>\n",
       "      <td>No Failure</td>\n",
       "    </tr>\n",
       "  </tbody>\n",
       "</table>\n",
       "</div>"
      ],
      "text/plain": [
       "      Target Failure Type\n",
       "1437       1   No Failure\n",
       "2749       1   No Failure\n",
       "4044       1   No Failure\n",
       "4684       1   No Failure\n",
       "5536       1   No Failure\n",
       "5941       1   No Failure\n",
       "6478       1   No Failure\n",
       "8506       1   No Failure\n",
       "9015       1   No Failure"
      ]
     },
     "execution_count": 20,
     "metadata": {},
     "output_type": "execute_result"
    }
   ],
   "source": [
    "# Verify errors\n",
    "df[['Target', 'Failure Type']][(df['Failure Type'] == \"No Failure\") & (df['Target'] != 0)]"
   ]
  },
  {
   "cell_type": "markdown",
   "id": "372cf5fb-91cd-4203-82ec-9830ceffbb7d",
   "metadata": {},
   "source": [
    "Because we aren't sure why they are recorded this way, we will go ahead and remove these rows."
   ]
  },
  {
   "cell_type": "code",
   "execution_count": 21,
   "id": "c3d274f4-ee4d-4643-ba75-8caef6593ed2",
   "metadata": {},
   "outputs": [],
   "source": [
    "err1 = df[['Target', 'Failure Type']][df['Failure Type'] == 'Random Failures'].index\n",
    "err2 = df[['Target', 'Failure Type']][(df['Failure Type'] == \"No Failure\") & (df['Target'] != 0)].index"
   ]
  },
  {
   "cell_type": "code",
   "execution_count": 22,
   "id": "049f67f0-0d46-4871-a5de-6c6774b511cf",
   "metadata": {},
   "outputs": [],
   "source": [
    "df.drop(err1, inplace = True)\n",
    "df.drop(err2, inplace = True)"
   ]
  },
  {
   "cell_type": "code",
   "execution_count": 23,
   "id": "7f7a228f-0e39-40b5-9e3a-59faed739505",
   "metadata": {},
   "outputs": [],
   "source": [
    "df.reset_index(inplace = True, drop = True)"
   ]
  },
  {
   "cell_type": "code",
   "execution_count": 24,
   "id": "2516cf69-f1ac-48df-86d6-48b8e56e09cb",
   "metadata": {},
   "outputs": [
    {
     "data": {
      "text/plain": [
       "(9973, 8)"
      ]
     },
     "execution_count": 24,
     "metadata": {},
     "output_type": "execute_result"
    }
   ],
   "source": [
    "df.shape"
   ]
  },
  {
   "cell_type": "code",
   "execution_count": 25,
   "id": "51ef2064-09da-4598-8c6a-6c07db60aca4",
   "metadata": {},
   "outputs": [
    {
     "data": {
      "image/png": "[encoded data removed]",
      "text/plain": [
       "<Figure size 500x400 with 2 Axes>"
      ]
     },
     "metadata": {},
     "output_type": "display_data"
    }
   ],
   "source": [
    "# Correlation Heatmap\n",
    "df_num = df.drop([\"Type\", \"Failure Type\", \"Target\"], axis = 1)\n",
    "corr = df_num.corr()\n",
    "plt.figure(figsize=(5,4))\n",
    "sns.heatmap(corr, annot=True)\n",
    "plt.show()"
   ]
  },
  {
   "cell_type": "markdown",
   "id": "e6fea942-8ad0-4439-b4a2-4309cf8774fd",
   "metadata": {},
   "source": [
    "We notice that process temperature and air temperature show high correlation, as well as rotational speed and Torque variable. This will be helpful gogin forward in feature selection."
   ]
  },
  {
   "cell_type": "markdown",
   "id": "bb9f3392-11b3-455a-9270-11dc301215c8",
   "metadata": {},
   "source": [
    "### Data Preprocessing\n",
    "1. Oversampling with SMOTE\n",
    "2. Features scaling and encoding"
   ]
  },
  {
   "cell_type": "code",
   "execution_count": 26,
   "id": "291d1c5f-ff60-44fc-aa69-e91d9953a812",
   "metadata": {},
   "outputs": [
    {
     "data": {
      "text/html": [
       "<div>\n",
       "<style scoped>\n",
       "    .dataframe tbody tr th:only-of-type {\n",
       "        vertical-align: middle;\n",
       "    }\n",
       "\n",
       "    .dataframe tbody tr th {\n",
       "        vertical-align: top;\n",
       "    }\n",
       "\n",
       "    .dataframe thead th {\n",
       "        text-align: right;\n",
       "    }\n",
       "</style>\n",
       "<table border=\"1\" class=\"dataframe\">\n",
       "  <thead>\n",
       "    <tr style=\"text-align: right;\">\n",
       "      <th></th>\n",
       "      <th>Target</th>\n",
       "      <th>count</th>\n",
       "      <th>perc</th>\n",
       "    </tr>\n",
       "  </thead>\n",
       "  <tbody>\n",
       "    <tr>\n",
       "      <th>0</th>\n",
       "      <td>0</td>\n",
       "      <td>9643</td>\n",
       "      <td>96.691066</td>\n",
       "    </tr>\n",
       "    <tr>\n",
       "      <th>1</th>\n",
       "      <td>1</td>\n",
       "      <td>330</td>\n",
       "      <td>3.308934</td>\n",
       "    </tr>\n",
       "  </tbody>\n",
       "</table>\n",
       "</div>"
      ],
      "text/plain": [
       "   Target  count       perc\n",
       "0       0   9643  96.691066\n",
       "1       1    330   3.308934"
      ]
     },
     "execution_count": 26,
     "metadata": {},
     "output_type": "execute_result"
    }
   ],
   "source": [
    "target_temp = df.value_counts(\"Target\").reset_index(name='count')\n",
    "target_temp[\"perc\"] = target_temp[\"count\"] / sum(target_temp[\"count\"]) * 100\n",
    "target_temp"
   ]
  },
  {
   "cell_type": "markdown",
   "id": "ddf6ea8e-79ca-4fb8-83ca-52ab0415ae60",
   "metadata": {},
   "source": [
    "Because our target variable is imbalanced, with failure data consisting of only ~3.3%, we should oversample the data using SMOTENC (Synthetic Minority Oversampling Technique for Nominal and Continuous data)."
   ]
  },
  {
   "cell_type": "code",
   "execution_count": 27,
   "id": "9d82dab9-86d5-4f65-8188-ce3cdf9b062c",
   "metadata": {},
   "outputs": [],
   "source": [
    "from sklearn.model_selection import train_test_split\n",
    "from imblearn.over_sampling import SMOTENC\n",
    "\n",
    "# We want 'No Failure' machines to take up around 80% of the resampled data, and have each failure types to be equal in numbers.\n",
    "nf = df['Failure Type'].value_counts()['No Failure']\n",
    "total = round(nf / 0.8)\n",
    "fail = round((total - nf) / 4)\n",
    "\n",
    "allocation = {'No Failure':nf,\n",
    "                 'Overstrain Failure':fail,\n",
    "                 'Heat Dissipation Failure':fail,\n",
    "                 'Power Failure':fail,\n",
    "                 'Tool Wear Failure':fail}\n",
    "\n",
    "smote_nc = SMOTENC(categorical_features=[0,7], sampling_strategy=allocation, random_state=42)\n",
    "df_resampled, y_resampled = smote_nc.fit_resample(df, df['Failure Type'])"
   ]
  },
  {
   "cell_type": "code",
   "execution_count": 28,
   "id": "a130a297-32e9-4bd8-8a8d-e934b1b74327",
   "metadata": {},
   "outputs": [
    {
     "data": {
      "image/png": "[encoded data removed]",
      "text/plain": [
       "<Figure size 640x480 with 1 Axes>"
      ]
     },
     "metadata": {},
     "output_type": "display_data"
    }
   ],
   "source": [
    "resam = y_resampled.value_counts().reset_index(name=\"count\")\n",
    "plt.pie(resam['count'], labels = resam['Failure Type'], autopct='%.0f%%')\n",
    "plt.title('Percentage of Machine Failure Type after Resampling')\n",
    "plt.show()"
   ]
  },
  {
   "cell_type": "markdown",
   "id": "d37daac4-be35-437d-9a64-15a09c3bafeb",
   "metadata": {},
   "source": [
    "#### Features scaling and encoding"
   ]
  },
  {
   "cell_type": "code",
   "execution_count": 29,
   "id": "d960e49b-8a97-4159-93d1-0fcd720f9e68",
   "metadata": {},
   "outputs": [],
   "source": [
    "from sklearn.preprocessing import StandardScaler\n",
    "from sklearn.decomposition import PCA\n",
    "from sklearn.preprocessing import OrdinalEncoder\n",
    "\n",
    "# Ordinal encoding\n",
    "category_order = [['L', 'M', 'H'],  # For 'Type'\n",
    "                  ['No Failure', 'Overstrain Failure', 'Heat Dissipation Failure',\n",
    "                   'Power Failure', 'Tool Wear Failure']]   # For 'Failure Type'\n",
    "encoder = OrdinalEncoder(categories=category_order)\n",
    "cols_to_encode = ['Type', 'Failure Type']\n",
    "\n",
    "df_res1 = df_resampled.copy()\n",
    "df_res1[cols_to_encode] = encoder.fit_transform(df_res1[cols_to_encode])"
   ]
  },
  {
   "cell_type": "code",
   "execution_count": 30,
   "id": "0695f3ff-3e4b-4230-9de6-b3dcef1f93ec",
   "metadata": {},
   "outputs": [],
   "source": [
    "# Scaling\n",
    "scalar = StandardScaler()\n",
    "numerical_features = ['Air temp', 'Process temp', 'Rotational speed', 'Torque', 'Tool wear']\n",
    "df_res1[numerical_features] = scalar.fit_transform(df_res1[numerical_features])"
   ]
  },
  {
   "cell_type": "code",
   "execution_count": 31,
   "id": "21018819-2c1c-4ba9-8f54-88ab51f66964",
   "metadata": {},
   "outputs": [
    {
     "data": {
      "text/html": [
       "<div>\n",
       "<style scoped>\n",
       "    .dataframe tbody tr th:only-of-type {\n",
       "        vertical-align: middle;\n",
       "    }\n",
       "\n",
       "    .dataframe tbody tr th {\n",
       "        vertical-align: top;\n",
       "    }\n",
       "\n",
       "    .dataframe thead th {\n",
       "        text-align: right;\n",
       "    }\n",
       "</style>\n",
       "<table border=\"1\" class=\"dataframe\">\n",
       "  <thead>\n",
       "    <tr style=\"text-align: right;\">\n",
       "      <th></th>\n",
       "      <th>Type</th>\n",
       "      <th>Air temp</th>\n",
       "      <th>Process temp</th>\n",
       "      <th>Rotational speed</th>\n",
       "      <th>Torque</th>\n",
       "      <th>Tool wear</th>\n",
       "      <th>Target</th>\n",
       "      <th>Failure Type</th>\n",
       "    </tr>\n",
       "  </thead>\n",
       "  <tbody>\n",
       "    <tr>\n",
       "      <th>count</th>\n",
       "      <td>12055.000000</td>\n",
       "      <td>1.205500e+04</td>\n",
       "      <td>1.205500e+04</td>\n",
       "      <td>1.205500e+04</td>\n",
       "      <td>1.205500e+04</td>\n",
       "      <td>1.205500e+04</td>\n",
       "      <td>12055.000000</td>\n",
       "      <td>12055.000000</td>\n",
       "    </tr>\n",
       "    <tr>\n",
       "      <th>mean</th>\n",
       "      <td>0.453671</td>\n",
       "      <td>-1.325953e-14</td>\n",
       "      <td>1.923859e-15</td>\n",
       "      <td>1.084528e-16</td>\n",
       "      <td>5.469794e-16</td>\n",
       "      <td>-7.544543e-17</td>\n",
       "      <td>0.200083</td>\n",
       "      <td>0.500207</td>\n",
       "    </tr>\n",
       "    <tr>\n",
       "      <th>std</th>\n",
       "      <td>0.652742</td>\n",
       "      <td>1.000041e+00</td>\n",
       "      <td>1.000041e+00</td>\n",
       "      <td>1.000041e+00</td>\n",
       "      <td>1.000041e+00</td>\n",
       "      <td>1.000041e+00</td>\n",
       "      <td>0.400079</td>\n",
       "      <td>1.118266</td>\n",
       "    </tr>\n",
       "    <tr>\n",
       "      <th>min</th>\n",
       "      <td>0.000000</td>\n",
       "      <td>-2.434100e+00</td>\n",
       "      <td>-3.023857e+00</td>\n",
       "      <td>-1.649024e+00</td>\n",
       "      <td>-3.217793e+00</td>\n",
       "      <td>-1.740074e+00</td>\n",
       "      <td>0.000000</td>\n",
       "      <td>0.000000</td>\n",
       "    </tr>\n",
       "    <tr>\n",
       "      <th>25%</th>\n",
       "      <td>0.000000</td>\n",
       "      <td>-8.198913e-01</td>\n",
       "      <td>-7.954035e-01</td>\n",
       "      <td>-6.162694e-01</td>\n",
       "      <td>-6.594268e-01</td>\n",
       "      <td>-8.637432e-01</td>\n",
       "      <td>0.000000</td>\n",
       "      <td>0.000000</td>\n",
       "    </tr>\n",
       "    <tr>\n",
       "      <th>50%</th>\n",
       "      <td>0.000000</td>\n",
       "      <td>3.765733e-02</td>\n",
       "      <td>4.026655e-02</td>\n",
       "      <td>-2.176625e-01</td>\n",
       "      <td>-1.130728e-02</td>\n",
       "      <td>1.258721e-02</td>\n",
       "      <td>0.000000</td>\n",
       "      <td>0.000000</td>\n",
       "    </tr>\n",
       "    <tr>\n",
       "      <th>75%</th>\n",
       "      <td>1.000000</td>\n",
       "      <td>7.943179e-01</td>\n",
       "      <td>6.792944e-01</td>\n",
       "      <td>3.123036e-01</td>\n",
       "      <td>6.414009e-01</td>\n",
       "      <td>9.037707e-01</td>\n",
       "      <td>0.000000</td>\n",
       "      <td>0.000000</td>\n",
       "    </tr>\n",
       "    <tr>\n",
       "      <th>max</th>\n",
       "      <td>2.000000</td>\n",
       "      <td>2.206751e+00</td>\n",
       "      <td>2.616916e+00</td>\n",
       "      <td>6.132871e+00</td>\n",
       "      <td>2.990509e+00</td>\n",
       "      <td>2.017750e+00</td>\n",
       "      <td>1.000000</td>\n",
       "      <td>4.000000</td>\n",
       "    </tr>\n",
       "  </tbody>\n",
       "</table>\n",
       "</div>"
      ],
      "text/plain": [
       "               Type      Air temp  Process temp  Rotational speed  \\\n",
       "count  12055.000000  1.205500e+04  1.205500e+04      1.205500e+04   \n",
       "mean       0.453671 -1.325953e-14  1.923859e-15      1.084528e-16   \n",
       "std        0.652742  1.000041e+00  1.000041e+00      1.000041e+00   \n",
       "min        0.000000 -2.434100e+00 -3.023857e+00     -1.649024e+00   \n",
       "25%        0.000000 -8.198913e-01 -7.954035e-01     -6.162694e-01   \n",
       "50%        0.000000  3.765733e-02  4.026655e-02     -2.176625e-01   \n",
       "75%        1.000000  7.943179e-01  6.792944e-01      3.123036e-01   \n",
       "max        2.000000  2.206751e+00  2.616916e+00      6.132871e+00   \n",
       "\n",
       "             Torque     Tool wear        Target  Failure Type  \n",
       "count  1.205500e+04  1.205500e+04  12055.000000  12055.000000  \n",
       "mean   5.469794e-16 -7.544543e-17      0.200083      0.500207  \n",
       "std    1.000041e+00  1.000041e+00      0.400079      1.118266  \n",
       "min   -3.217793e+00 -1.740074e+00      0.000000      0.000000  \n",
       "25%   -6.594268e-01 -8.637432e-01      0.000000      0.000000  \n",
       "50%   -1.130728e-02  1.258721e-02      0.000000      0.000000  \n",
       "75%    6.414009e-01  9.037707e-01      0.000000      0.000000  \n",
       "max    2.990509e+00  2.017750e+00      1.000000      4.000000  "
      ]
     },
     "execution_count": 31,
     "metadata": {},
     "output_type": "execute_result"
    }
   ],
   "source": [
    "df_res1.describe()"
   ]
  },
  {
   "cell_type": "markdown",
   "id": "4769ee86-7d7e-490e-8ca1-bba0501e129f",
   "metadata": {},
   "source": [
    "The data has now been correctly scaled and encoded."
   ]
  },
  {
   "cell_type": "markdown",
   "id": "19646ba2-545d-4035-9e92-7c31fe7c6d30",
   "metadata": {},
   "source": [
    "### Modeling"
   ]
  },
  {
   "cell_type": "code",
   "execution_count": 100,
   "id": "219a9d9a-2c07-41a0-88e4-f2e8b9503b4f",
   "metadata": {},
   "outputs": [],
   "source": [
    "from sklearn.metrics import accuracy_score, roc_auc_score, f1_score, fbeta_score\n",
    "from sklearn.metrics import confusion_matrix, make_scorer\n",
    "from sklearn.inspection import permutation_importance\n",
    "from sklearn.model_selection import GridSearchCV\n",
    "from sklearn.linear_model import LogisticRegression\n",
    "from sklearn.neighbors import KNeighborsClassifier\n",
    "from sklearn.ensemble import RandomForestClassifier\n",
    "from xgboost import XGBClassifier\n",
    "from sklearn.svm import SVC\n",
    "import time"
   ]
  },
  {
   "cell_type": "code",
   "execution_count": 101,
   "id": "e6b189e5-3413-495f-8d54-dd73636d30a5",
   "metadata": {},
   "outputs": [],
   "source": [
    "# Train, validation, test split\n",
    "X, y = df_res1.drop(['Target', 'Failure Type'], axis=1), df_res1[['Target', 'Failure Type']]\n",
    "X_trainval, X_test, y_trainval, y_test = train_test_split(X, y, test_size=0.1, stratify = df_res1['Failure Type'], random_state=42)\n",
    "X_train, X_val, y_train, y_val = train_test_split(X_trainval, y_trainval, test_size=0.1, stratify = y_trainval['Failure Type'], random_state=42)"
   ]
  },
  {
   "cell_type": "code",
   "execution_count": 102,
   "id": "d4c27e7b-91e0-4da6-a9e4-f6a073274aa7",
   "metadata": {},
   "outputs": [],
   "source": [
    "# Models\n",
    "lr = LogisticRegression()\n",
    "knn = KNeighborsClassifier()\n",
    "svc = SVC(probability = True)\n",
    "rf = RandomForestClassifier()\n",
    "xgb = XGBClassifier()"
   ]
  },
  {
   "cell_type": "code",
   "execution_count": 103,
   "id": "8f163dcc-245c-4fd0-bcd8-bdd2b4234fb7",
   "metadata": {},
   "outputs": [],
   "source": [
    "classifier = [lr, knn, svc, rf, xgb]\n",
    "clf_str = ['LR','KNN','SVC','RFC','XGB'] \n",
    "\n",
    "def eval_preds(model,X,y_true,y_pred):\n",
    "    # Extract task target\n",
    "    y_true = y_true['Target']\n",
    "    cm = confusion_matrix(y_true, y_pred)\n",
    "    # Probability of the minority class\n",
    "    proba = model.predict_proba(X)[:,1]\n",
    "    # Metrics\n",
    "    acc = accuracy_score(y_true, y_pred)\n",
    "    auc = roc_auc_score(y_true, proba)\n",
    "    f1 = f1_score(y_true, y_pred, pos_label=1)\n",
    "    f2 = fbeta_score(y_true, y_pred, pos_label=1, beta=2)\n",
    "    metrics = pd.Series(data={'ACC':acc, 'AUC':auc, 'F1':f1, 'F2':f2})\n",
    "    metrics = round(metrics,3)\n",
    "    return cm, metrics\n",
    "\n",
    "def fit_models(clf, clf_str, X_train, X_val, y_train, y_val):\n",
    "    metrics = pd.DataFrame(columns = clf_str)\n",
    "    for model, model_name in zip(clf, clf_str):\n",
    "        model.fit(X_train, y_train['Target'])\n",
    "        y_val_pred = model.predict(X_val)\n",
    "        metrics[model_name] = eval_preds(model, X_val, y_val, y_val_pred)[1]\n",
    "    return metrics"
   ]
  },
  {
   "cell_type": "code",
   "execution_count": 104,
   "id": "6c92b58a-fd55-4fc4-9f91-ccb35c2d073e",
   "metadata": {},
   "outputs": [],
   "source": [
    "metrics = fit_models(classifier, clf_str, X_train, X_val, y_train, y_val)"
   ]
  },
  {
   "cell_type": "code",
   "execution_count": 105,
   "id": "d01c78ea-bca8-4b79-bad1-4fa4f5ff6aaa",
   "metadata": {},
   "outputs": [
    {
     "data": {
      "text/html": [
       "<div>\n",
       "<style scoped>\n",
       "    .dataframe tbody tr th:only-of-type {\n",
       "        vertical-align: middle;\n",
       "    }\n",
       "\n",
       "    .dataframe tbody tr th {\n",
       "        vertical-align: top;\n",
       "    }\n",
       "\n",
       "    .dataframe thead th {\n",
       "        text-align: right;\n",
       "    }\n",
       "</style>\n",
       "<table border=\"1\" class=\"dataframe\">\n",
       "  <thead>\n",
       "    <tr style=\"text-align: right;\">\n",
       "      <th></th>\n",
       "      <th>LR</th>\n",
       "      <th>KNN</th>\n",
       "      <th>SVC</th>\n",
       "      <th>RFC</th>\n",
       "      <th>XGB</th>\n",
       "    </tr>\n",
       "  </thead>\n",
       "  <tbody>\n",
       "    <tr>\n",
       "      <th>ACC</th>\n",
       "      <td>0.882</td>\n",
       "      <td>0.964</td>\n",
       "      <td>0.955</td>\n",
       "      <td>0.982</td>\n",
       "      <td>0.978</td>\n",
       "    </tr>\n",
       "    <tr>\n",
       "      <th>AUC</th>\n",
       "      <td>0.916</td>\n",
       "      <td>0.986</td>\n",
       "      <td>0.988</td>\n",
       "      <td>0.998</td>\n",
       "      <td>0.998</td>\n",
       "    </tr>\n",
       "    <tr>\n",
       "      <th>F1</th>\n",
       "      <td>0.668</td>\n",
       "      <td>0.913</td>\n",
       "      <td>0.886</td>\n",
       "      <td>0.956</td>\n",
       "      <td>0.946</td>\n",
       "    </tr>\n",
       "    <tr>\n",
       "      <th>F2</th>\n",
       "      <td>0.622</td>\n",
       "      <td>0.929</td>\n",
       "      <td>0.883</td>\n",
       "      <td>0.958</td>\n",
       "      <td>0.959</td>\n",
       "    </tr>\n",
       "  </tbody>\n",
       "</table>\n",
       "</div>"
      ],
      "text/plain": [
       "        LR    KNN    SVC    RFC    XGB\n",
       "ACC  0.882  0.964  0.955  0.982  0.978\n",
       "AUC  0.916  0.986  0.988  0.998  0.998\n",
       "F1   0.668  0.913  0.886  0.956  0.946\n",
       "F2   0.622  0.929  0.883  0.958  0.959"
      ]
     },
     "execution_count": 105,
     "metadata": {},
     "output_type": "execute_result"
    }
   ],
   "source": [
    "metrics"
   ]
  },
  {
   "cell_type": "markdown",
   "id": "0f7b53a7-1944-42b5-bfcc-ae0c8c85d9c0",
   "metadata": {},
   "source": [
    "For all of the models that have predicted on the validation set, random forecast and XGBoost seem to perform the best on all metrics."
   ]
  },
  {
   "cell_type": "code",
   "execution_count": 106,
   "id": "0db0275f-d837-4207-b60d-5a15caacc9e1",
   "metadata": {},
   "outputs": [],
   "source": [
    "test_metrics = fit_models(classifier, clf_str, X_train, X_test, y_train, y_test)"
   ]
  },
  {
   "cell_type": "code",
   "execution_count": 107,
   "id": "4d788dff-f21b-438f-a7ff-0c659d697ee2",
   "metadata": {},
   "outputs": [
    {
     "data": {
      "text/html": [
       "<div>\n",
       "<style scoped>\n",
       "    .dataframe tbody tr th:only-of-type {\n",
       "        vertical-align: middle;\n",
       "    }\n",
       "\n",
       "    .dataframe tbody tr th {\n",
       "        vertical-align: top;\n",
       "    }\n",
       "\n",
       "    .dataframe thead th {\n",
       "        text-align: right;\n",
       "    }\n",
       "</style>\n",
       "<table border=\"1\" class=\"dataframe\">\n",
       "  <thead>\n",
       "    <tr style=\"text-align: right;\">\n",
       "      <th></th>\n",
       "      <th>LR</th>\n",
       "      <th>KNN</th>\n",
       "      <th>SVC</th>\n",
       "      <th>RFC</th>\n",
       "      <th>XGB</th>\n",
       "    </tr>\n",
       "  </thead>\n",
       "  <tbody>\n",
       "    <tr>\n",
       "      <th>ACC</th>\n",
       "      <td>0.877</td>\n",
       "      <td>0.956</td>\n",
       "      <td>0.947</td>\n",
       "      <td>0.982</td>\n",
       "      <td>0.980</td>\n",
       "    </tr>\n",
       "    <tr>\n",
       "      <th>AUC</th>\n",
       "      <td>0.893</td>\n",
       "      <td>0.984</td>\n",
       "      <td>0.985</td>\n",
       "      <td>0.998</td>\n",
       "      <td>0.998</td>\n",
       "    </tr>\n",
       "    <tr>\n",
       "      <th>F1</th>\n",
       "      <td>0.648</td>\n",
       "      <td>0.894</td>\n",
       "      <td>0.866</td>\n",
       "      <td>0.954</td>\n",
       "      <td>0.950</td>\n",
       "    </tr>\n",
       "    <tr>\n",
       "      <th>F2</th>\n",
       "      <td>0.595</td>\n",
       "      <td>0.915</td>\n",
       "      <td>0.859</td>\n",
       "      <td>0.952</td>\n",
       "      <td>0.953</td>\n",
       "    </tr>\n",
       "  </tbody>\n",
       "</table>\n",
       "</div>"
      ],
      "text/plain": [
       "        LR    KNN    SVC    RFC    XGB\n",
       "ACC  0.877  0.956  0.947  0.982  0.980\n",
       "AUC  0.893  0.984  0.985  0.998  0.998\n",
       "F1   0.648  0.894  0.866  0.954  0.950\n",
       "F2   0.595  0.915  0.859  0.952  0.953"
      ]
     },
     "execution_count": 107,
     "metadata": {},
     "output_type": "execute_result"
    }
   ],
   "source": [
    "test_metrics"
   ]
  },
  {
   "cell_type": "code",
   "execution_count": 116,
   "id": "b5d5a6c7-7a3b-41b3-9a4b-86157be8a26f",
   "metadata": {},
   "outputs": [
    {
     "name": "stdout",
     "output_type": "stream",
     "text": [
      "F1 score with random forest on test set: 94.8%\n"
     ]
    }
   ],
   "source": [
    "rf.fit(X_train, y_train['Target'])\n",
    "pred_rf = rf.predict(X_test)\n",
    "f1_rf = f1_score(y_test['Target'], pred_rf, pos_label=1)\n",
    "print(f'F1 score with random forest on test set: {round(f1_rf, 3)*100}%')"
   ]
  },
  {
   "cell_type": "code",
   "execution_count": 118,
   "id": "d585f682-f2de-4c84-820a-07849af140d4",
   "metadata": {},
   "outputs": [
    {
     "name": "stdout",
     "output_type": "stream",
     "text": [
      "Confusion Matrix - Random Forest\n",
      "[[953  12]\n",
      " [ 13 228]]\n"
     ]
    }
   ],
   "source": [
    "cm_rf = confusion_matrix(y_test['Target'], pred_rf.round())\n",
    "print(\"Confusion Matrix - Random Forest\")\n",
    "print(cm_rf)"
   ]
  },
  {
   "cell_type": "code",
   "execution_count": 125,
   "id": "d1c41690-221f-4128-9e17-2944edd5e119",
   "metadata": {},
   "outputs": [
    {
     "name": "stdout",
     "output_type": "stream",
     "text": [
      "F1 score with XGBoost on test set: 95.0%\n"
     ]
    }
   ],
   "source": [
    "xgb.fit(X_train, y_train['Target'])\n",
    "pred_xgb = xgb.predict(X_test)\n",
    "f1_xgb = f1_score(y_test['Target'], pred_xgb, pos_label=1)\n",
    "print(f'F1 score with XGBoost on test set: {round(f1_xgb, 3)*100}%')"
   ]
  },
  {
   "cell_type": "code",
   "execution_count": 126,
   "id": "02fc82d5-497a-44e8-bf3f-9419cf9d75e3",
   "metadata": {},
   "outputs": [
    {
     "name": "stdout",
     "output_type": "stream",
     "text": [
      "Confusion Matrix - Random Forest\n",
      "[[952  13]\n",
      " [ 11 230]]\n"
     ]
    }
   ],
   "source": [
    "cm_xgb = confusion_matrix(y_test['Target'], pred_xgb.round())\n",
    "print(\"Confusion Matrix - Random Forest\")\n",
    "print(cm_xgb)"
   ]
  },
  {
   "cell_type": "code",
   "execution_count": 123,
   "id": "adffcda1-83df-4ff7-872d-db08b8ec99d1",
   "metadata": {},
   "outputs": [],
   "source": [
    "import itertools\n",
    "# confusion matrix\n",
    "def plot_confusion_matrix(cm, classes, normalize=False, title='Confusion Matrix', cmap=plt.cm.Blues):\n",
    "    \"\"\"\n",
    "    This function prints and plots the confusion matrix.\n",
    "    Normalization can be applied by setting `normalize=True`.\n",
    "    \"\"\"\n",
    "    if normalize:\n",
    "        cm = cm.astype('float') / cm.sum(axis=1)[:, np.newaxis]\n",
    "        print(\"Normalized confusion matrix\")\n",
    "    else:\n",
    "        print('Confusion matrix, without normalization')\n",
    "\n",
    "    plt.imshow(cm, interpolation='nearest', cmap=cmap)\n",
    "    plt.title(title)\n",
    "    plt.colorbar()\n",
    "    tick_marks = np.arange(len(classes))\n",
    "    plt.xticks(tick_marks, classes, rotation=0)\n",
    "    plt.yticks(tick_marks, classes)\n",
    "\n",
    "    fmt = '.2f' if normalize else 'd'\n",
    "    thresh = cm.max() / 2.\n",
    "    for i, j in itertools.product(range(cm.shape[0]), range(cm.shape[1])):\n",
    "        plt.text(j, i, format(cm[i, j], fmt), horizontalalignment=\"center\", color=\"white\" if cm[i, j] > thresh else \"black\")\n",
    "\n",
    "    plt.ylabel('True label')\n",
    "    plt.xlabel('Predicted label')\n",
    "    plt.tight_layout()"
   ]
  },
  {
   "cell_type": "code",
   "execution_count": 124,
   "id": "650f65e8-a26e-4daf-8e35-9f2bfa5cd5ed",
   "metadata": {},
   "outputs": [
    {
     "name": "stdout",
     "output_type": "stream",
     "text": [
      "Confusion matrix, without normalization\n"
     ]
    },
    {
     "data": {
      "image/png": "[encoded data removed]",
      "text/plain": [
       "<Figure size 640x480 with 2 Axes>"
      ]
     },
     "metadata": {},
     "output_type": "display_data"
    }
   ],
   "source": [
    "plot_confusion_matrix(cm_rf, classes=[0, 1], title= \"Confusion Matrix - Random Forest\")"
   ]
  },
  {
   "cell_type": "code",
   "execution_count": 128,
   "id": "8c2b9f44-2636-445a-89c3-6d45e8af4449",
   "metadata": {},
   "outputs": [
    {
     "name": "stdout",
     "output_type": "stream",
     "text": [
      "Confusion matrix, without normalization\n"
     ]
    },
    {
     "data": {
      "image/png": "[encoded data removed]",
      "text/plain": [
       "<Figure size 640x480 with 2 Axes>"
      ]
     },
     "metadata": {},
     "output_type": "display_data"
    }
   ],
   "source": [
    "plot_confusion_matrix(cm_xgb, classes=[0, 1], title= \"Confusion Matrix - XGBoost\")"
   ]
  },
  {
   "cell_type": "markdown",
   "id": "400eaa28-5ee0-41e1-8447-544121ad6f3d",
   "metadata": {},
   "source": [
    "Overall, our random forest and XGBoost models performed the best, both achieving f1 scores of around 95%. Out of over 1200 sampled machines, our model was able to correctly predict 1,182 of machines on machine failures, while the model predicted around 25 machines incorrectly. We can conclude that for both task the chosen models perform very well."
   ]
  }
 ],
 "metadata": {
  "kernelspec": {
   "display_name": "myenv",
   "language": "python",
   "name": "myenv"
  },
  "language_info": {
   "codemirror_mode": {
    "name": "ipython",
    "version": 3
   },
   "file_extension": ".py",
   "mimetype": "text/x-python",
   "name": "python",
   "nbconvert_exporter": "python",
   "pygments_lexer": "ipython3",
   "version": "3.12.8"
  }
 },
 "nbformat": 4,
 "nbformat_minor": 5
}
